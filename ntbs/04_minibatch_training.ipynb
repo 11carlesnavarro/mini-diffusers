{
 "cells": [
  {
   "cell_type": "code",
   "execution_count": 1,
   "metadata": {
    "executionInfo": {
     "elapsed": 6494,
     "status": "ok",
     "timestamp": 1683447524896,
     "user": {
      "displayName": "Carles Navarro",
      "userId": "08891072405822318117"
     },
     "user_tz": -120
    },
    "id": "hMjW1WcvPv8V"
   },
   "outputs": [],
   "source": [
    "#|export\n",
    "import pickle,gzip,math,os,time,shutil,torch,matplotlib as mpl,numpy as np,matplotlib.pyplot as plt\n",
    "from pathlib import Path\n",
    "from torch import tensor,nn\n",
    "import torch.nn.functional as F"
   ]
  },
  {
   "cell_type": "code",
   "execution_count": 2,
   "metadata": {
    "executionInfo": {
     "elapsed": 3728,
     "status": "ok",
     "timestamp": 1683447528621,
     "user": {
      "displayName": "Carles Navarro",
      "userId": "08891072405822318117"
     },
     "user_tz": -120
    },
    "id": "EZ5RpzneThi6"
   },
   "outputs": [],
   "source": [
    "from fastcore.test import test_close\n",
    "\n",
    "torch.set_printoptions(precision=2, linewidth=140, sci_mode=False)\n",
    "torch.manual_seed(1)\n",
    "mpl.rcParams['image.cmap'] = 'gray'\n",
    "\n",
    "mpl.rcParams['image.cmap'] = 'gray'\n",
    "torch.set_printoptions(precision=2, linewidth=125, sci_mode=False)\n",
    "np.set_printoptions(precision=2, linewidth=125)\n",
    "\n",
    "MNIST_URL='https://github.com/mnielsen/neural-networks-and-deep-learning/blob/master/data/mnist.pkl.gz?raw=true'\n",
    "path_data = Path('data')\n",
    "path_data.mkdir(exist_ok=True)\n",
    "path_gz = path_data/'mnist.pkl.gz'\n",
    "\n",
    "from urllib.request import urlretrieve\n",
    "if not path_gz.exists(): urlretrieve(MNIST_URL, path_gz)\n",
    "\n",
    "with gzip.open(path_gz, 'rb') as f:\n",
    "  ((x_train, y_train), (x_valid, y_valid), _) = pickle.load(f, encoding='latin-1')\n",
    "x_train, y_train, x_valid, y_valid = map(tensor, [x_train, y_train, x_valid, y_valid])\n"
   ]
  },
  {
   "cell_type": "markdown",
   "metadata": {
    "id": "cxzibJdhTuWL"
   },
   "source": [
    "# Initial Setup"
   ]
  },
  {
   "cell_type": "markdown",
   "metadata": {
    "id": "KbYxhK9KTyiN"
   },
   "source": [
    "## Data"
   ]
  },
  {
   "cell_type": "code",
   "execution_count": 3,
   "metadata": {
    "executionInfo": {
     "elapsed": 17,
     "status": "ok",
     "timestamp": 1683447528622,
     "user": {
      "displayName": "Carles Navarro",
      "userId": "08891072405822318117"
     },
     "user_tz": -120
    },
    "id": "W61xukUYTyOc"
   },
   "outputs": [],
   "source": [
    "n, m = x_train.shape\n",
    "c = y_train.max() + 1\n",
    "nh = 50"
   ]
  },
  {
   "cell_type": "code",
   "execution_count": 4,
   "metadata": {
    "executionInfo": {
     "elapsed": 16,
     "status": "ok",
     "timestamp": 1683447528622,
     "user": {
      "displayName": "Carles Navarro",
      "userId": "08891072405822318117"
     },
     "user_tz": -120
    },
    "id": "ejjlFvRbTkbV"
   },
   "outputs": [],
   "source": [
    "class Model(nn.Module):\n",
    "  def __init__(self, n_in, nh, n_out):\n",
    "    super().__init__()\n",
    "    self.layers = [nn.Linear(n_in, nh), nn.ReLU(), nn.Linear(nh, n_out)]\n",
    "\n",
    "  def __call__(self, x):\n",
    "    for l in self.layers: \n",
    "      x = l(x)\n",
    "    return x"
   ]
  },
  {
   "cell_type": "code",
   "execution_count": 5,
   "metadata": {
    "colab": {
     "base_uri": "https://localhost:8080/"
    },
    "executionInfo": {
     "elapsed": 16,
     "status": "ok",
     "timestamp": 1683447528622,
     "user": {
      "displayName": "Carles Navarro",
      "userId": "08891072405822318117"
     },
     "user_tz": -120
    },
    "id": "78JD6fDEUVKq",
    "outputId": "35c1c534-2e35-4cd0-dfbc-341fd0af3cf8"
   },
   "outputs": [
    {
     "data": {
      "text/plain": [
       "torch.Size([50000, 10])"
      ]
     },
     "execution_count": 5,
     "metadata": {},
     "output_type": "execute_result"
    }
   ],
   "source": [
    "model = Model(m, nh, 10)\n",
    "pred = model(x_train)\n",
    "pred.shape"
   ]
  },
  {
   "cell_type": "markdown",
   "metadata": {
    "id": "BDN1PG05Ub-2"
   },
   "source": [
    "## Cross Entropy Loss"
   ]
  },
  {
   "cell_type": "code",
   "execution_count": 6,
   "metadata": {
    "executionInfo": {
     "elapsed": 5,
     "status": "ok",
     "timestamp": 1683447528622,
     "user": {
      "displayName": "Carles Navarro",
      "userId": "08891072405822318117"
     },
     "user_tz": -120
    },
    "id": "nLLZE_UkUZ5r"
   },
   "outputs": [],
   "source": [
    "def log_softmax(x):\n",
    "  return (x.exp() / (x.exp().sum(-1, keepdim=True))).log()"
   ]
  },
  {
   "cell_type": "code",
   "execution_count": 7,
   "metadata": {
    "colab": {
     "base_uri": "https://localhost:8080/"
    },
    "executionInfo": {
     "elapsed": 4,
     "status": "ok",
     "timestamp": 1683447528622,
     "user": {
      "displayName": "Carles Navarro",
      "userId": "08891072405822318117"
     },
     "user_tz": -120
    },
    "id": "BnUxsbN5UqCX",
    "outputId": "7da9fe5d-2c72-4082-9dcc-77bca829a29e"
   },
   "outputs": [
    {
     "data": {
      "text/plain": [
       "tensor([[-2.37, -2.49, -2.36,  ..., -2.31, -2.28, -2.22],\n",
       "        [-2.37, -2.44, -2.44,  ..., -2.27, -2.26, -2.16],\n",
       "        [-2.48, -2.33, -2.28,  ..., -2.30, -2.30, -2.27],\n",
       "        ...,\n",
       "        [-2.33, -2.52, -2.34,  ..., -2.31, -2.21, -2.16],\n",
       "        [-2.38, -2.38, -2.33,  ..., -2.29, -2.26, -2.17],\n",
       "        [-2.33, -2.55, -2.36,  ..., -2.29, -2.27, -2.16]], grad_fn=<LogBackward0>)"
      ]
     },
     "execution_count": 7,
     "metadata": {},
     "output_type": "execute_result"
    }
   ],
   "source": [
    "log_softmax(pred)"
   ]
  },
  {
   "cell_type": "code",
   "execution_count": 8,
   "metadata": {
    "executionInfo": {
     "elapsed": 2,
     "status": "ok",
     "timestamp": 1683447528622,
     "user": {
      "displayName": "Carles Navarro",
      "userId": "08891072405822318117"
     },
     "user_tz": -120
    },
    "id": "pYywQD3KUrtq"
   },
   "outputs": [],
   "source": [
    "def logsumexp(x):\n",
    "  m = x.max(-1)[0]\n",
    "  return m + (x - m[:, None]).exp().sum(-1).log()"
   ]
  },
  {
   "cell_type": "code",
   "execution_count": 9,
   "metadata": {
    "executionInfo": {
     "elapsed": 962,
     "status": "ok",
     "timestamp": 1683447529582,
     "user": {
      "displayName": "Carles Navarro",
      "userId": "08891072405822318117"
     },
     "user_tz": -120
    },
    "id": "QqtK_5pLVEfr"
   },
   "outputs": [],
   "source": [
    "def log_softmax(x):\n",
    "  return x - x.logsumexp(-1, keepdim=True)"
   ]
  },
  {
   "cell_type": "code",
   "execution_count": 10,
   "metadata": {
    "colab": {
     "base_uri": "https://localhost:8080/"
    },
    "executionInfo": {
     "elapsed": 18,
     "status": "ok",
     "timestamp": 1683447529582,
     "user": {
      "displayName": "Carles Navarro",
      "userId": "08891072405822318117"
     },
     "user_tz": -120
    },
    "id": "lGn8Eb6LVKtn",
    "outputId": "cf64b09b-943c-45ea-d6bd-d340e8943ea4"
   },
   "outputs": [
    {
     "data": {
      "text/plain": [
       "tensor([[-2.37, -2.49, -2.36,  ..., -2.31, -2.28, -2.22],\n",
       "        [-2.37, -2.44, -2.44,  ..., -2.27, -2.26, -2.16],\n",
       "        [-2.48, -2.33, -2.28,  ..., -2.30, -2.30, -2.27],\n",
       "        ...,\n",
       "        [-2.33, -2.52, -2.34,  ..., -2.31, -2.21, -2.16],\n",
       "        [-2.38, -2.38, -2.33,  ..., -2.29, -2.26, -2.17],\n",
       "        [-2.33, -2.55, -2.36,  ..., -2.29, -2.27, -2.16]], grad_fn=<SubBackward0>)"
      ]
     },
     "execution_count": 10,
     "metadata": {},
     "output_type": "execute_result"
    }
   ],
   "source": [
    "test_close(logsumexp(pred), pred.logsumexp(-1))\n",
    "sm_pred = log_softmax(pred)\n",
    "sm_pred"
   ]
  },
  {
   "cell_type": "code",
   "execution_count": 11,
   "metadata": {
    "colab": {
     "base_uri": "https://localhost:8080/"
    },
    "executionInfo": {
     "elapsed": 17,
     "status": "ok",
     "timestamp": 1683447529582,
     "user": {
      "displayName": "Carles Navarro",
      "userId": "08891072405822318117"
     },
     "user_tz": -120
    },
    "id": "IOlIPkyaVUfF",
    "outputId": "0f82ff9e-d6a8-4572-d334-e9780e982c0d"
   },
   "outputs": [
    {
     "data": {
      "text/plain": [
       "tensor([5, 0, 4])"
      ]
     },
     "execution_count": 11,
     "metadata": {},
     "output_type": "execute_result"
    }
   ],
   "source": [
    "y_train[:3]"
   ]
  },
  {
   "cell_type": "code",
   "execution_count": 12,
   "metadata": {
    "colab": {
     "base_uri": "https://localhost:8080/"
    },
    "executionInfo": {
     "elapsed": 16,
     "status": "ok",
     "timestamp": 1683447529582,
     "user": {
      "displayName": "Carles Navarro",
      "userId": "08891072405822318117"
     },
     "user_tz": -120
    },
    "id": "6vlFIA10WAJD",
    "outputId": "03bf35e6-5380-4947-9e9c-0443b5c1a4c1"
   },
   "outputs": [
    {
     "data": {
      "text/plain": [
       "(tensor(-2.20, grad_fn=<SelectBackward0>),\n",
       " tensor(-2.37, grad_fn=<SelectBackward0>),\n",
       " tensor(-2.36, grad_fn=<SelectBackward0>))"
      ]
     },
     "execution_count": 12,
     "metadata": {},
     "output_type": "execute_result"
    }
   ],
   "source": [
    "sm_pred[0,5], sm_pred[1,0], sm_pred[2,4]"
   ]
  },
  {
   "cell_type": "code",
   "execution_count": 13,
   "metadata": {
    "colab": {
     "base_uri": "https://localhost:8080/"
    },
    "executionInfo": {
     "elapsed": 15,
     "status": "ok",
     "timestamp": 1683447529583,
     "user": {
      "displayName": "Carles Navarro",
      "userId": "08891072405822318117"
     },
     "user_tz": -120
    },
    "id": "nnBm7dO8WEhS",
    "outputId": "efadce94-bf5f-4957-a83d-3cbf5befe032"
   },
   "outputs": [
    {
     "data": {
      "text/plain": [
       "tensor([-2.20, -2.37, -2.36], grad_fn=<IndexBackward0>)"
      ]
     },
     "execution_count": 13,
     "metadata": {},
     "output_type": "execute_result"
    }
   ],
   "source": [
    "sm_pred[[0,1,2], y_train[:3]]"
   ]
  },
  {
   "cell_type": "code",
   "execution_count": 14,
   "metadata": {
    "executionInfo": {
     "elapsed": 14,
     "status": "ok",
     "timestamp": 1683447529583,
     "user": {
      "displayName": "Carles Navarro",
      "userId": "08891072405822318117"
     },
     "user_tz": -120
    },
    "id": "yl-UPkwKWM9m"
   },
   "outputs": [],
   "source": [
    "def nll(input, target):\n",
    "  return -input[range(target.shape[0]), target].mean()"
   ]
  },
  {
   "cell_type": "code",
   "execution_count": 15,
   "metadata": {
    "colab": {
     "base_uri": "https://localhost:8080/"
    },
    "executionInfo": {
     "elapsed": 14,
     "status": "ok",
     "timestamp": 1683447529583,
     "user": {
      "displayName": "Carles Navarro",
      "userId": "08891072405822318117"
     },
     "user_tz": -120
    },
    "id": "heEJIyQdWVrj",
    "outputId": "1cd582e6-274a-455b-a76c-6bafd2c54d44"
   },
   "outputs": [
    {
     "data": {
      "text/plain": [
       "tensor(2.30, grad_fn=<NegBackward0>)"
      ]
     },
     "execution_count": 15,
     "metadata": {},
     "output_type": "execute_result"
    }
   ],
   "source": [
    "loss = nll(sm_pred, y_train)\n",
    "loss"
   ]
  },
  {
   "cell_type": "markdown",
   "metadata": {
    "id": "S6agH5BZW3l2"
   },
   "source": [
    "# Using parameters and optim"
   ]
  },
  {
   "cell_type": "markdown",
   "metadata": {
    "id": "puLI_Mm6W7aw"
   },
   "source": [
    "## Parameters"
   ]
  },
  {
   "cell_type": "code",
   "execution_count": 16,
   "metadata": {
    "colab": {
     "base_uri": "https://localhost:8080/"
    },
    "executionInfo": {
     "elapsed": 13,
     "status": "ok",
     "timestamp": 1683447529583,
     "user": {
      "displayName": "Carles Navarro",
      "userId": "08891072405822318117"
     },
     "user_tz": -120
    },
    "id": "UoAw1frrWYyM",
    "outputId": "fa23c163-1c08-47af-d65c-569ff8aafa94"
   },
   "outputs": [
    {
     "data": {
      "text/plain": [
       "Module(\n",
       "  (foo): Linear(in_features=3, out_features=4, bias=True)\n",
       ")"
      ]
     },
     "execution_count": 16,
     "metadata": {},
     "output_type": "execute_result"
    }
   ],
   "source": [
    "m1 = nn.Module()\n",
    "m1.foo = nn.Linear(3, 4)\n",
    "m1"
   ]
  },
  {
   "cell_type": "code",
   "execution_count": 17,
   "metadata": {
    "colab": {
     "base_uri": "https://localhost:8080/"
    },
    "executionInfo": {
     "elapsed": 12,
     "status": "ok",
     "timestamp": 1683447529583,
     "user": {
      "displayName": "Carles Navarro",
      "userId": "08891072405822318117"
     },
     "user_tz": -120
    },
    "id": "vPoPCMlVXBbJ",
    "outputId": "eb8450c4-7b1d-4a02-f54d-1937c5b9b284"
   },
   "outputs": [
    {
     "data": {
      "text/plain": [
       "[('foo', Linear(in_features=3, out_features=4, bias=True))]"
      ]
     },
     "execution_count": 17,
     "metadata": {},
     "output_type": "execute_result"
    }
   ],
   "source": [
    "list(m1.named_children())"
   ]
  },
  {
   "cell_type": "code",
   "execution_count": 18,
   "metadata": {
    "colab": {
     "base_uri": "https://localhost:8080/"
    },
    "executionInfo": {
     "elapsed": 11,
     "status": "ok",
     "timestamp": 1683447529583,
     "user": {
      "displayName": "Carles Navarro",
      "userId": "08891072405822318117"
     },
     "user_tz": -120
    },
    "id": "RupmotU3XKJy",
    "outputId": "38da840a-c45b-4359-a8a6-6a2061079975"
   },
   "outputs": [
    {
     "data": {
      "text/plain": [
       "<generator object Module.named_children at 0x7fb99780e0a0>"
      ]
     },
     "execution_count": 18,
     "metadata": {},
     "output_type": "execute_result"
    }
   ],
   "source": [
    "m1.named_children()"
   ]
  },
  {
   "cell_type": "code",
   "execution_count": 19,
   "metadata": {
    "colab": {
     "base_uri": "https://localhost:8080/"
    },
    "executionInfo": {
     "elapsed": 10,
     "status": "ok",
     "timestamp": 1683447529583,
     "user": {
      "displayName": "Carles Navarro",
      "userId": "08891072405822318117"
     },
     "user_tz": -120
    },
    "id": "GMUqBFJLXONp",
    "outputId": "94729ecd-0852-411a-c28c-7e23ccc2cce6"
   },
   "outputs": [
    {
     "data": {
      "text/plain": [
       "[Parameter containing:\n",
       " tensor([[ 0.57,  0.43, -0.30],\n",
       "         [ 0.13, -0.32, -0.24],\n",
       "         [ 0.51,  0.04,  0.22],\n",
       "         [ 0.13, -0.17, -0.24]], requires_grad=True),\n",
       " Parameter containing:\n",
       " tensor([-0.01, -0.51, -0.39,  0.56], requires_grad=True)]"
      ]
     },
     "execution_count": 19,
     "metadata": {},
     "output_type": "execute_result"
    }
   ],
   "source": [
    "list(m1.parameters())"
   ]
  },
  {
   "cell_type": "code",
   "execution_count": 20,
   "metadata": {
    "executionInfo": {
     "elapsed": 9,
     "status": "ok",
     "timestamp": 1683447529584,
     "user": {
      "displayName": "Carles Navarro",
      "userId": "08891072405822318117"
     },
     "user_tz": -120
    },
    "id": "fAoF_sy4XQhw"
   },
   "outputs": [],
   "source": [
    "class MLP(nn.Module):\n",
    "  def __init__(self, n_in, nh, n_out):\n",
    "    super().__init__()\n",
    "    self.l1 = nn.Linear(n_in, nh)\n",
    "    self.l2 = nn.Linear(nh, n_out)\n",
    "    self.relu = nn.ReLU()\n",
    "  \n",
    "  def __call__(self, x):\n",
    "    return self.l2(self.relu(self.l1(x)))"
   ]
  },
  {
   "cell_type": "code",
   "execution_count": 21,
   "metadata": {
    "colab": {
     "base_uri": "https://localhost:8080/"
    },
    "executionInfo": {
     "elapsed": 9,
     "status": "ok",
     "timestamp": 1683447529584,
     "user": {
      "displayName": "Carles Navarro",
      "userId": "08891072405822318117"
     },
     "user_tz": -120
    },
    "id": "f3ksTNBva9Hq",
    "outputId": "e3611e30-ac4a-45a3-8650-8899a13b29fe"
   },
   "outputs": [
    {
     "data": {
      "text/plain": [
       "Linear(in_features=784, out_features=50, bias=True)"
      ]
     },
     "execution_count": 21,
     "metadata": {},
     "output_type": "execute_result"
    }
   ],
   "source": [
    "model = MLP(m, nh, 10)\n",
    "model.l1"
   ]
  },
  {
   "cell_type": "code",
   "execution_count": 22,
   "metadata": {
    "colab": {
     "base_uri": "https://localhost:8080/"
    },
    "executionInfo": {
     "elapsed": 644,
     "status": "ok",
     "timestamp": 1683447530221,
     "user": {
      "displayName": "Carles Navarro",
      "userId": "08891072405822318117"
     },
     "user_tz": -120
    },
    "id": "s4JmP-5_bSro",
    "outputId": "2b8d88c8-5aa2-4c2a-a663-e6b7fe36fa8b"
   },
   "outputs": [
    {
     "data": {
      "text/plain": [
       "MLP(\n",
       "  (l1): Linear(in_features=784, out_features=50, bias=True)\n",
       "  (l2): Linear(in_features=50, out_features=10, bias=True)\n",
       "  (relu): ReLU()\n",
       ")"
      ]
     },
     "execution_count": 22,
     "metadata": {},
     "output_type": "execute_result"
    }
   ],
   "source": [
    "model"
   ]
  },
  {
   "cell_type": "code",
   "execution_count": 23,
   "metadata": {
    "colab": {
     "base_uri": "https://localhost:8080/"
    },
    "executionInfo": {
     "elapsed": 6,
     "status": "ok",
     "timestamp": 1683447530221,
     "user": {
      "displayName": "Carles Navarro",
      "userId": "08891072405822318117"
     },
     "user_tz": -120
    },
    "id": "hIBnSC7nbcGE",
    "outputId": "f3ee27c6-d1ce-44b4-ed9f-17b72fa6b5ac"
   },
   "outputs": [
    {
     "name": "stdout",
     "output_type": "stream",
     "text": [
      "l1: Linear(in_features=784, out_features=50, bias=True)\n",
      "l2: Linear(in_features=50, out_features=10, bias=True)\n",
      "relu: ReLU()\n"
     ]
    }
   ],
   "source": [
    "for name, l in model.named_children():\n",
    "  print(f'{name}: {l}')"
   ]
  },
  {
   "cell_type": "code",
   "execution_count": 24,
   "metadata": {
    "colab": {
     "base_uri": "https://localhost:8080/"
    },
    "executionInfo": {
     "elapsed": 4,
     "status": "ok",
     "timestamp": 1683447530221,
     "user": {
      "displayName": "Carles Navarro",
      "userId": "08891072405822318117"
     },
     "user_tz": -120
    },
    "id": "oSouswi_bipC",
    "outputId": "bb3747e2-0a18-4b89-b162-d0add9428766"
   },
   "outputs": [
    {
     "name": "stdout",
     "output_type": "stream",
     "text": [
      "torch.Size([50, 784])\n",
      "torch.Size([50])\n",
      "torch.Size([10, 50])\n",
      "torch.Size([10])\n"
     ]
    }
   ],
   "source": [
    "for p in model.parameters():\n",
    "  print(p.shape)"
   ]
  },
  {
   "cell_type": "code",
   "execution_count": 25,
   "metadata": {
    "executionInfo": {
     "elapsed": 2,
     "status": "ok",
     "timestamp": 1683447530221,
     "user": {
      "displayName": "Carles Navarro",
      "userId": "08891072405822318117"
     },
     "user_tz": -120
    },
    "id": "G-Iig6yNcb5y"
   },
   "outputs": [],
   "source": [
    "lr = 0.5   # learning rate\n",
    "epochs = 3 # how many epochs to train for\n",
    "bs=50                  # batch size\n",
    "xb = x_train[0:bs]     # a mini-batch from x\n",
    "\n",
    "loss_func = F.cross_entropy\n",
    "\n",
    "#|export\n",
    "def accuracy(out, yb): \n",
    "  return (out.argmax(dim=1)==yb).float().mean()\n",
    "\n",
    "def report(loss, preds, yb): \n",
    "  print(f'{loss:.2f}, {accuracy(preds, yb):.2f}')\n"
   ]
  },
  {
   "cell_type": "code",
   "execution_count": 26,
   "metadata": {
    "executionInfo": {
     "elapsed": 2,
     "status": "ok",
     "timestamp": 1683447530221,
     "user": {
      "displayName": "Carles Navarro",
      "userId": "08891072405822318117"
     },
     "user_tz": -120
    },
    "id": "-EF6z8sQbtSy"
   },
   "outputs": [],
   "source": [
    "def fit():\n",
    "  for epoch in range(epochs):\n",
    "    for i in range(0, n, bs):\n",
    "      s = slice(i, min(n, i+bs))\n",
    "      xb, yb = x_train[s], y_train[s]\n",
    "      preds = model(xb)\n",
    "      loss = loss_func(preds, yb)\n",
    "      loss.backward()\n",
    "      with torch.no_grad():\n",
    "        for p in model.parameters():\n",
    "          p -= p.grad * lr\n",
    "        model.zero_grad()\n",
    "    report(loss, preds, yb)"
   ]
  },
  {
   "cell_type": "code",
   "execution_count": 27,
   "metadata": {
    "colab": {
     "base_uri": "https://localhost:8080/"
    },
    "executionInfo": {
     "elapsed": 6991,
     "status": "ok",
     "timestamp": 1683447537210,
     "user": {
      "displayName": "Carles Navarro",
      "userId": "08891072405822318117"
     },
     "user_tz": -120
    },
    "id": "0zksyDnpcaNX",
    "outputId": "aa19077c-8e5a-4e3a-ce61-f68572083c90"
   },
   "outputs": [
    {
     "name": "stdout",
     "output_type": "stream",
     "text": [
      "0.19, 0.96\n",
      "0.11, 0.96\n",
      "0.04, 1.00\n"
     ]
    }
   ],
   "source": [
    "fit()"
   ]
  },
  {
   "cell_type": "code",
   "execution_count": 28,
   "metadata": {
    "executionInfo": {
     "elapsed": 5,
     "status": "ok",
     "timestamp": 1683447537210,
     "user": {
      "displayName": "Carles Navarro",
      "userId": "08891072405822318117"
     },
     "user_tz": -120
    },
    "id": "nXqAm7mccbD3"
   },
   "outputs": [],
   "source": [
    "class MyModule:\n",
    "  def __init__(self, n_in, nh, n_out):\n",
    "    self._modules = {}\n",
    "    self.l1 = nn.Linear(n_in, nh)\n",
    "    self.l2 = nn.Linear(nh, n_out)\n",
    "  \n",
    "  def __setattr__(self, k, v):\n",
    "    if not k.startswith(\"_\"):\n",
    "      self._modules[k] = v\n",
    "    super().__setattr__(k,v)\n",
    "  \n",
    "  def __repr__(self):\n",
    "    return f'{self._modules}'\n",
    "  \n",
    "  def parameters(self):\n",
    "    for l in self._modules.values():\n",
    "      yield from l.parameters()"
   ]
  },
  {
   "cell_type": "code",
   "execution_count": 29,
   "metadata": {
    "colab": {
     "base_uri": "https://localhost:8080/"
    },
    "executionInfo": {
     "elapsed": 5,
     "status": "ok",
     "timestamp": 1683447537210,
     "user": {
      "displayName": "Carles Navarro",
      "userId": "08891072405822318117"
     },
     "user_tz": -120
    },
    "id": "8C-a7Xogd7YS",
    "outputId": "c610b385-c4c8-4665-ac05-994545296505"
   },
   "outputs": [
    {
     "data": {
      "text/plain": [
       "{'l1': Linear(in_features=784, out_features=50, bias=True), 'l2': Linear(in_features=50, out_features=10, bias=True)}"
      ]
     },
     "execution_count": 29,
     "metadata": {},
     "output_type": "execute_result"
    }
   ],
   "source": [
    "mdl = MyModule(m, nh, 10)\n",
    "mdl"
   ]
  },
  {
   "cell_type": "code",
   "execution_count": 30,
   "metadata": {
    "colab": {
     "base_uri": "https://localhost:8080/"
    },
    "executionInfo": {
     "elapsed": 3,
     "status": "ok",
     "timestamp": 1683447537210,
     "user": {
      "displayName": "Carles Navarro",
      "userId": "08891072405822318117"
     },
     "user_tz": -120
    },
    "id": "NZm_ehFxd-DC",
    "outputId": "a39cb20d-cc18-407e-d34a-c5da803e316d"
   },
   "outputs": [
    {
     "name": "stdout",
     "output_type": "stream",
     "text": [
      "torch.Size([50, 784])\n",
      "torch.Size([50])\n",
      "torch.Size([10, 50])\n",
      "torch.Size([10])\n"
     ]
    }
   ],
   "source": [
    "for p in mdl.parameters():\n",
    "  print(p.shape)"
   ]
  },
  {
   "cell_type": "markdown",
   "metadata": {
    "id": "MKUkVektq3mZ"
   },
   "source": [
    "## Registering Modules"
   ]
  },
  {
   "cell_type": "code",
   "execution_count": 31,
   "metadata": {
    "executionInfo": {
     "elapsed": 2,
     "status": "ok",
     "timestamp": 1683447537210,
     "user": {
      "displayName": "Carles Navarro",
      "userId": "08891072405822318117"
     },
     "user_tz": -120
    },
    "id": "GEZLm15igYaT"
   },
   "outputs": [],
   "source": [
    "from functools import reduce"
   ]
  },
  {
   "cell_type": "code",
   "execution_count": 32,
   "metadata": {
    "executionInfo": {
     "elapsed": 380,
     "status": "ok",
     "timestamp": 1683447537588,
     "user": {
      "displayName": "Carles Navarro",
      "userId": "08891072405822318117"
     },
     "user_tz": -120
    },
    "id": "7NC-_SByq70-"
   },
   "outputs": [],
   "source": [
    "layers = [nn.Linear(m, nh), nn.ReLU(), nn.Linear(nh, 10) ]"
   ]
  },
  {
   "cell_type": "code",
   "execution_count": 33,
   "metadata": {
    "executionInfo": {
     "elapsed": 4,
     "status": "ok",
     "timestamp": 1683447537589,
     "user": {
      "displayName": "Carles Navarro",
      "userId": "08891072405822318117"
     },
     "user_tz": -120
    },
    "id": "Fb_zNFBjrQhX"
   },
   "outputs": [],
   "source": [
    "class Model(nn.Module):\n",
    "    def __init__(self, layers):\n",
    "        super().__init__()\n",
    "        self.layers = layers\n",
    "        for i,l in enumerate(self.layers): \n",
    "          self.add_module(f'layer_{i}', l)\n",
    "\n",
    "    def forward(self, x): \n",
    "      return reduce(lambda val,layer: layer(val), self.layers, x)\n"
   ]
  },
  {
   "cell_type": "code",
   "execution_count": 34,
   "metadata": {
    "colab": {
     "base_uri": "https://localhost:8080/"
    },
    "executionInfo": {
     "elapsed": 4,
     "status": "ok",
     "timestamp": 1683447537589,
     "user": {
      "displayName": "Carles Navarro",
      "userId": "08891072405822318117"
     },
     "user_tz": -120
    },
    "id": "CK0jF-4srgII",
    "outputId": "ebe64289-43a3-49f3-b800-f93c0b7aa432"
   },
   "outputs": [
    {
     "data": {
      "text/plain": [
       "Model(\n",
       "  (layer_0): Linear(in_features=784, out_features=50, bias=True)\n",
       "  (layer_1): ReLU()\n",
       "  (layer_2): Linear(in_features=50, out_features=10, bias=True)\n",
       ")"
      ]
     },
     "execution_count": 34,
     "metadata": {},
     "output_type": "execute_result"
    }
   ],
   "source": [
    "model = Model(layers)\n",
    "model"
   ]
  },
  {
   "cell_type": "code",
   "execution_count": 35,
   "metadata": {
    "colab": {
     "base_uri": "https://localhost:8080/"
    },
    "executionInfo": {
     "elapsed": 3,
     "status": "ok",
     "timestamp": 1683447537589,
     "user": {
      "displayName": "Carles Navarro",
      "userId": "08891072405822318117"
     },
     "user_tz": -120
    },
    "id": "eKbOhx1VrjBD",
    "outputId": "16aa1861-32ce-4fcb-aabc-322ff373f354"
   },
   "outputs": [
    {
     "data": {
      "text/plain": [
       "torch.Size([50, 10])"
      ]
     },
     "execution_count": 35,
     "metadata": {},
     "output_type": "execute_result"
    }
   ],
   "source": [
    "model(xb).shape"
   ]
  },
  {
   "cell_type": "markdown",
   "metadata": {
    "id": "CheVVyBtsGuJ"
   },
   "source": [
    "## nn.Sequential"
   ]
  },
  {
   "cell_type": "code",
   "execution_count": 36,
   "metadata": {
    "executionInfo": {
     "elapsed": 3,
     "status": "ok",
     "timestamp": 1683447537590,
     "user": {
      "displayName": "Carles Navarro",
      "userId": "08891072405822318117"
     },
     "user_tz": -120
    },
    "id": "dAgwx5vAryqa"
   },
   "outputs": [],
   "source": [
    "model = nn.Sequential(nn.Linear(m,nh), nn.ReLU(), nn.Linear(nh,10))"
   ]
  },
  {
   "cell_type": "code",
   "execution_count": 37,
   "metadata": {
    "colab": {
     "base_uri": "https://localhost:8080/"
    },
    "executionInfo": {
     "elapsed": 5598,
     "status": "ok",
     "timestamp": 1683447543185,
     "user": {
      "displayName": "Carles Navarro",
      "userId": "08891072405822318117"
     },
     "user_tz": -120
    },
    "id": "64l_N2TEsWsL",
    "outputId": "30bde5e8-9ecc-45a2-e362-f2f4c0e869b9"
   },
   "outputs": [
    {
     "name": "stdout",
     "output_type": "stream",
     "text": [
      "0.15, 0.96\n",
      "0.11, 0.96\n",
      "0.09, 0.94\n"
     ]
    },
    {
     "data": {
      "text/plain": [
       "(tensor(0.07, grad_fn=<NllLossBackward0>), tensor(0.98))"
      ]
     },
     "execution_count": 37,
     "metadata": {},
     "output_type": "execute_result"
    }
   ],
   "source": [
    "yb = y_train[0:bs]\n",
    "\n",
    "fit()\n",
    "loss_func(model(xb), yb), accuracy(model(xb), yb)"
   ]
  },
  {
   "cell_type": "code",
   "execution_count": 38,
   "metadata": {
    "colab": {
     "base_uri": "https://localhost:8080/"
    },
    "executionInfo": {
     "elapsed": 15,
     "status": "ok",
     "timestamp": 1683447543186,
     "user": {
      "displayName": "Carles Navarro",
      "userId": "08891072405822318117"
     },
     "user_tz": -120
    },
    "id": "q0qhXsLssoog",
    "outputId": "549d5e6d-4d71-4adb-940e-8aa66e019af5"
   },
   "outputs": [
    {
     "data": {
      "text/plain": [
       "Sequential(\n",
       "  (0): Linear(in_features=784, out_features=50, bias=True)\n",
       "  (1): ReLU()\n",
       "  (2): Linear(in_features=50, out_features=10, bias=True)\n",
       ")"
      ]
     },
     "execution_count": 38,
     "metadata": {},
     "output_type": "execute_result"
    }
   ],
   "source": [
    "model"
   ]
  },
  {
   "cell_type": "markdown",
   "metadata": {
    "id": "TfAVOHxZvwrp"
   },
   "source": [
    "## optim"
   ]
  },
  {
   "cell_type": "code",
   "execution_count": 39,
   "metadata": {
    "executionInfo": {
     "elapsed": 12,
     "status": "ok",
     "timestamp": 1683447543186,
     "user": {
      "displayName": "Carles Navarro",
      "userId": "08891072405822318117"
     },
     "user_tz": -120
    },
    "id": "T3I2HxBovv_k"
   },
   "outputs": [],
   "source": [
    "class Optimizer():\n",
    "  def __init__(self, params, lr=0.5):\n",
    "    self.params = list(params)\n",
    "    self.lr = lr\n",
    "  \n",
    "  def step(self):\n",
    "    with torch.no_grad():\n",
    "      for p in self.params:\n",
    "        p -= p.grad * self.lr\n",
    "    \n",
    "  def zero_grad(self):\n",
    "    for p in self.params:\n",
    "      p.grad.data.zero_()"
   ]
  },
  {
   "cell_type": "code",
   "execution_count": 40,
   "metadata": {
    "executionInfo": {
     "elapsed": 12,
     "status": "ok",
     "timestamp": 1683447543186,
     "user": {
      "displayName": "Carles Navarro",
      "userId": "08891072405822318117"
     },
     "user_tz": -120
    },
    "id": "5TRYGkQow8u9"
   },
   "outputs": [],
   "source": [
    "model = nn.Sequential(nn.Linear(m,nh), nn.ReLU(), nn.Linear(nh, 10))"
   ]
  },
  {
   "cell_type": "code",
   "execution_count": 41,
   "metadata": {
    "executionInfo": {
     "elapsed": 12,
     "status": "ok",
     "timestamp": 1683447543186,
     "user": {
      "displayName": "Carles Navarro",
      "userId": "08891072405822318117"
     },
     "user_tz": -120
    },
    "id": "vYUTiPFKxGjN"
   },
   "outputs": [],
   "source": [
    "opt = Optimizer(model.parameters())"
   ]
  },
  {
   "cell_type": "code",
   "execution_count": 42,
   "metadata": {
    "colab": {
     "base_uri": "https://localhost:8080/"
    },
    "executionInfo": {
     "elapsed": 4755,
     "status": "ok",
     "timestamp": 1683447547929,
     "user": {
      "displayName": "Carles Navarro",
      "userId": "08891072405822318117"
     },
     "user_tz": -120
    },
    "id": "7-PSKGNfxJdj",
    "outputId": "1e12e88d-8897-4e78-d39f-6a080f943a2b"
   },
   "outputs": [
    {
     "name": "stdout",
     "output_type": "stream",
     "text": [
      "0.18, 0.94\n",
      "0.13, 0.96\n",
      "0.11, 0.94\n"
     ]
    }
   ],
   "source": [
    "for epoch in range(epochs):\n",
    "  for i in range(0, n, bs):\n",
    "    s = slice(i, min(n, i+bs))\n",
    "    xb, yb = x_train[s], y_train[s]\n",
    "    preds = model(xb)\n",
    "    loss = loss_func(preds, yb)\n",
    "    loss.backward()\n",
    "    opt.step()\n",
    "    opt.zero_grad()\n",
    "  report(loss, preds, yb)"
   ]
  },
  {
   "cell_type": "code",
   "execution_count": 43,
   "metadata": {
    "executionInfo": {
     "elapsed": 10,
     "status": "ok",
     "timestamp": 1683447547929,
     "user": {
      "displayName": "Carles Navarro",
      "userId": "08891072405822318117"
     },
     "user_tz": -120
    },
    "id": "YyhvzCvBxo3v"
   },
   "outputs": [],
   "source": [
    "from torch import optim"
   ]
  },
  {
   "cell_type": "code",
   "execution_count": 44,
   "metadata": {
    "executionInfo": {
     "elapsed": 10,
     "status": "ok",
     "timestamp": 1683447547929,
     "user": {
      "displayName": "Carles Navarro",
      "userId": "08891072405822318117"
     },
     "user_tz": -120
    },
    "id": "S8G6M6XmxrKW"
   },
   "outputs": [],
   "source": [
    "def get_model():\n",
    "  model = nn.Sequential(nn.Linear(m,nh), nn.ReLU(), nn.Linear(nh, 10))\n",
    "  return model, optim.SGD(model.parameters(), lr=lr)"
   ]
  },
  {
   "cell_type": "code",
   "execution_count": 45,
   "metadata": {
    "colab": {
     "base_uri": "https://localhost:8080/"
    },
    "executionInfo": {
     "elapsed": 10,
     "status": "ok",
     "timestamp": 1683447547929,
     "user": {
      "displayName": "Carles Navarro",
      "userId": "08891072405822318117"
     },
     "user_tz": -120
    },
    "id": "wHFq6Tt7x0TR",
    "outputId": "48e7dcae-00f1-4761-c6b7-6084795d80fa"
   },
   "outputs": [
    {
     "data": {
      "text/plain": [
       "tensor(2.33, grad_fn=<NllLossBackward0>)"
      ]
     },
     "execution_count": 45,
     "metadata": {},
     "output_type": "execute_result"
    }
   ],
   "source": [
    "model, opt = get_model()\n",
    "loss_func(model(xb), yb)"
   ]
  },
  {
   "cell_type": "code",
   "execution_count": 46,
   "metadata": {
    "colab": {
     "base_uri": "https://localhost:8080/"
    },
    "executionInfo": {
     "elapsed": 1973,
     "status": "ok",
     "timestamp": 1683447549894,
     "user": {
      "displayName": "Carles Navarro",
      "userId": "08891072405822318117"
     },
     "user_tz": -120
    },
    "id": "Zh1_o0Evx4EH",
    "outputId": "36813662-71bc-4485-8b0e-ff9d452cff35"
   },
   "outputs": [
    {
     "name": "stdout",
     "output_type": "stream",
     "text": [
      "0.38, 0.88\n",
      "0.37, 0.90\n",
      "0.23, 0.92\n"
     ]
    }
   ],
   "source": [
    "for epoch in range(epochs):\n",
    "  for i in range(0, n, bs):\n",
    "    s = slice(i, min(n, i+bs))\n",
    "    xb, yb = x_train[s], y_train[s]\n",
    "    preds = model(xb)\n",
    "    loss = loss_func(preds, yb)\n",
    "    loss.backward()\n",
    "    opt.step()\n",
    "    opt.step()\n",
    "    opt.zero_grad()\n",
    "  report(loss, preds, yb)"
   ]
  },
  {
   "cell_type": "markdown",
   "metadata": {
    "id": "bkkHqfv8ypfl"
   },
   "source": [
    "# Dataset and DataLoader"
   ]
  },
  {
   "cell_type": "markdown",
   "metadata": {
    "id": "LLnGVyCwyrqT"
   },
   "source": [
    "## Dataset"
   ]
  },
  {
   "cell_type": "code",
   "execution_count": 47,
   "metadata": {
    "executionInfo": {
     "elapsed": 1,
     "status": "ok",
     "timestamp": 1683447549894,
     "user": {
      "displayName": "Carles Navarro",
      "userId": "08891072405822318117"
     },
     "user_tz": -120
    },
    "id": "_kmRzMWDyRYs"
   },
   "outputs": [],
   "source": [
    "class Dataset():\n",
    "  def __init__(self, x, y):\n",
    "    self.x = x\n",
    "    self.y = y\n",
    "  def __len__(self):\n",
    "    return len(self.x)\n",
    "  def __getitem__(self, i):\n",
    "    return self.x[i], self.y[i]"
   ]
  },
  {
   "cell_type": "code",
   "execution_count": 48,
   "metadata": {
    "executionInfo": {
     "elapsed": 1,
     "status": "ok",
     "timestamp": 1683447549894,
     "user": {
      "displayName": "Carles Navarro",
      "userId": "08891072405822318117"
     },
     "user_tz": -120
    },
    "id": "nlnZ3oumyZ42"
   },
   "outputs": [],
   "source": [
    "train_ds, valid_ds = Dataset(x_train, y_train), Dataset(x_valid, y_valid)\n",
    "assert len(train_ds) == len(x_train)\n",
    "assert len(valid_ds) == len(x_valid)"
   ]
  },
  {
   "cell_type": "code",
   "execution_count": 49,
   "metadata": {
    "executionInfo": {
     "elapsed": 2,
     "status": "ok",
     "timestamp": 1683447549895,
     "user": {
      "displayName": "Carles Navarro",
      "userId": "08891072405822318117"
     },
     "user_tz": -120
    },
    "id": "eROGhNG-zJ5c"
   },
   "outputs": [],
   "source": [
    "xb, yb = train_ds[0:5]\n",
    "\n",
    "assert xb.shape == (5, 28*28)\n",
    "assert yb.shape == (5,)"
   ]
  },
  {
   "cell_type": "code",
   "execution_count": 50,
   "metadata": {
    "executionInfo": {
     "elapsed": 394,
     "status": "ok",
     "timestamp": 1683447550287,
     "user": {
      "displayName": "Carles Navarro",
      "userId": "08891072405822318117"
     },
     "user_tz": -120
    },
    "id": "vWydRqxRzSg-"
   },
   "outputs": [],
   "source": [
    "model, opt = get_model()"
   ]
  },
  {
   "cell_type": "code",
   "execution_count": 51,
   "metadata": {
    "colab": {
     "base_uri": "https://localhost:8080/"
    },
    "executionInfo": {
     "elapsed": 1839,
     "status": "ok",
     "timestamp": 1683447552125,
     "user": {
      "displayName": "Carles Navarro",
      "userId": "08891072405822318117"
     },
     "user_tz": -120
    },
    "id": "PDzsr5FrzVnr",
    "outputId": "927cb7e5-4d4f-46be-bd75-fcbdb7958025"
   },
   "outputs": [
    {
     "name": "stdout",
     "output_type": "stream",
     "text": [
      "0.26, 0.88\n",
      "0.13, 0.96\n",
      "0.08, 0.96\n"
     ]
    }
   ],
   "source": [
    "for epoch in range(epochs):\n",
    "  for i in range(0, n, bs):\n",
    "    xb, yb = train_ds[i:min(n, bs+i)]\n",
    "    preds = model(xb)\n",
    "    loss = loss_func(preds, yb)\n",
    "    loss.backward()\n",
    "    opt.step()\n",
    "    opt.step()\n",
    "    opt.zero_grad()\n",
    "  report(loss, preds, yb)"
   ]
  },
  {
   "cell_type": "markdown",
   "metadata": {
    "id": "fCOQs4_WzjcR"
   },
   "source": [
    "## DataLoader"
   ]
  },
  {
   "cell_type": "code",
   "execution_count": 52,
   "metadata": {
    "executionInfo": {
     "elapsed": 5,
     "status": "ok",
     "timestamp": 1683447552125,
     "user": {
      "displayName": "Carles Navarro",
      "userId": "08891072405822318117"
     },
     "user_tz": -120
    },
    "id": "LtRtymvGzjLH"
   },
   "outputs": [],
   "source": [
    "class DataLoader():\n",
    "  def __init__(self, ds, bs):\n",
    "    self.ds = ds\n",
    "    self.bs = bs\n",
    "\n",
    "  def __iter__(self):\n",
    "    for i in range(0, len(self.ds), self.bs):\n",
    "      yield self.ds[i:i+self.bs]"
   ]
  },
  {
   "cell_type": "code",
   "execution_count": 53,
   "metadata": {
    "executionInfo": {
     "elapsed": 5,
     "status": "ok",
     "timestamp": 1683447552125,
     "user": {
      "displayName": "Carles Navarro",
      "userId": "08891072405822318117"
     },
     "user_tz": -120
    },
    "id": "UFLttRI_zh64"
   },
   "outputs": [],
   "source": [
    "train_dl = DataLoader(train_ds, bs)\n",
    "valid_dl = DataLoader(valid_ds, bs)\n"
   ]
  },
  {
   "cell_type": "code",
   "execution_count": 54,
   "metadata": {
    "colab": {
     "base_uri": "https://localhost:8080/"
    },
    "executionInfo": {
     "elapsed": 5,
     "status": "ok",
     "timestamp": 1683447552125,
     "user": {
      "displayName": "Carles Navarro",
      "userId": "08891072405822318117"
     },
     "user_tz": -120
    },
    "id": "7BAIaB6iz7Kz",
    "outputId": "72612740-6d82-409f-cb3e-ef58fcb33a63"
   },
   "outputs": [
    {
     "data": {
      "text/plain": [
       "torch.Size([50, 784])"
      ]
     },
     "execution_count": 54,
     "metadata": {},
     "output_type": "execute_result"
    }
   ],
   "source": [
    "xb, yb = next(iter(valid_dl))\n",
    "xb.shape"
   ]
  },
  {
   "cell_type": "code",
   "execution_count": 55,
   "metadata": {
    "colab": {
     "base_uri": "https://localhost:8080/"
    },
    "executionInfo": {
     "elapsed": 3,
     "status": "ok",
     "timestamp": 1683447552125,
     "user": {
      "displayName": "Carles Navarro",
      "userId": "08891072405822318117"
     },
     "user_tz": -120
    },
    "id": "jA5FTR3uz_s0",
    "outputId": "0cd7ffae-c649-4fba-e950-e9532b1c0ce6"
   },
   "outputs": [
    {
     "data": {
      "text/plain": [
       "tensor([3, 8, 6, 9, 6, 4, 5, 3, 8, 4, 5, 2, 3, 8, 4, 8, 1, 5, 0, 5, 9, 7, 4, 1, 0, 3, 0, 6, 2, 9, 9, 4, 1, 3, 6, 8, 0, 7, 7,\n",
       "        6, 8, 9, 0, 3, 8, 3, 7, 7, 8, 4])"
      ]
     },
     "execution_count": 55,
     "metadata": {},
     "output_type": "execute_result"
    }
   ],
   "source": [
    "yb"
   ]
  },
  {
   "cell_type": "code",
   "execution_count": 56,
   "metadata": {
    "colab": {
     "base_uri": "https://localhost:8080/",
     "height": 448
    },
    "executionInfo": {
     "elapsed": 799,
     "status": "ok",
     "timestamp": 1683447552922,
     "user": {
      "displayName": "Carles Navarro",
      "userId": "08891072405822318117"
     },
     "user_tz": -120
    },
    "id": "DkV1KUxp0AyN",
    "outputId": "0929fdb5-7e58-46f3-e06d-672d7d70f43b"
   },
   "outputs": [
    {
     "data": {
      "text/plain": [
       "tensor(3)"
      ]
     },
     "execution_count": 56,
     "metadata": {},
     "output_type": "execute_result"
    },
    {
     "data": {
      "image/png": "[encoded data removed]",
      "text/plain": [
       "<Figure size 640x480 with 1 Axes>"
      ]
     },
     "metadata": {},
     "output_type": "display_data"
    }
   ],
   "source": [
    "plt.imshow(xb[0].view(28, 28))\n",
    "yb[0]"
   ]
  },
  {
   "cell_type": "code",
   "execution_count": 57,
   "metadata": {
    "executionInfo": {
     "elapsed": 2,
     "status": "ok",
     "timestamp": 1683447552922,
     "user": {
      "displayName": "Carles Navarro",
      "userId": "08891072405822318117"
     },
     "user_tz": -120
    },
    "id": "aUt74IBi027y"
   },
   "outputs": [],
   "source": [
    "model, opt = get_model()"
   ]
  },
  {
   "cell_type": "code",
   "execution_count": 58,
   "metadata": {
    "executionInfo": {
     "elapsed": 2,
     "status": "ok",
     "timestamp": 1683447552922,
     "user": {
      "displayName": "Carles Navarro",
      "userId": "08891072405822318117"
     },
     "user_tz": -120
    },
    "id": "WvOC2Xay094_"
   },
   "outputs": [],
   "source": [
    "def fit():\n",
    "  for epoch in range(epochs):\n",
    "    for xb, yb in train_dl:\n",
    "      preds = model(xb)\n",
    "      loss = loss_func(preds, yb)\n",
    "      loss.backward()\n",
    "      opt.step()\n",
    "      opt.step()\n",
    "      opt.zero_grad()\n",
    "  report(loss, preds, yb)"
   ]
  },
  {
   "cell_type": "code",
   "execution_count": 59,
   "metadata": {
    "colab": {
     "base_uri": "https://localhost:8080/"
    },
    "executionInfo": {
     "elapsed": 1440,
     "status": "ok",
     "timestamp": 1683447554360,
     "user": {
      "displayName": "Carles Navarro",
      "userId": "08891072405822318117"
     },
     "user_tz": -120
    },
    "id": "CUvjm2vt1P6p",
    "outputId": "f80d1006-2d54-4b2d-c339-3cfc2399d0c1"
   },
   "outputs": [
    {
     "name": "stdout",
     "output_type": "stream",
     "text": [
      "0.32, 0.92\n"
     ]
    },
    {
     "data": {
      "text/plain": [
       "(tensor(0.06, grad_fn=<NllLossBackward0>), tensor(1.))"
      ]
     },
     "execution_count": 59,
     "metadata": {},
     "output_type": "execute_result"
    }
   ],
   "source": [
    "fit()\n",
    "loss_func(model(xb), yb), accuracy(model(xb), yb)"
   ]
  },
  {
   "cell_type": "markdown",
   "metadata": {
    "id": "w1B4o-531ZQK"
   },
   "source": [
    "## Random Sampling"
   ]
  },
  {
   "cell_type": "code",
   "execution_count": 60,
   "metadata": {
    "executionInfo": {
     "elapsed": 1,
     "status": "ok",
     "timestamp": 1683447554360,
     "user": {
      "displayName": "Carles Navarro",
      "userId": "08891072405822318117"
     },
     "user_tz": -120
    },
    "id": "qfj3LWdA1W8b"
   },
   "outputs": [],
   "source": [
    "import random"
   ]
  },
  {
   "cell_type": "code",
   "execution_count": 61,
   "metadata": {
    "executionInfo": {
     "elapsed": 467,
     "status": "ok",
     "timestamp": 1683447554827,
     "user": {
      "displayName": "Carles Navarro",
      "userId": "08891072405822318117"
     },
     "user_tz": -120
    },
    "id": "JCkKcIxx1bwt"
   },
   "outputs": [],
   "source": [
    "class Sampler():\n",
    "  def __init__(self, ds, shuffle=False):\n",
    "    self.n = len(ds)\n",
    "    self.shuffle = shuffle\n",
    "  def __iter__(self):\n",
    "    res = list(range(self.n))\n",
    "    if self.shuffle:\n",
    "      random.shuffle(res)\n",
    "    return iter(res)"
   ]
  },
  {
   "cell_type": "code",
   "execution_count": 62,
   "metadata": {
    "executionInfo": {
     "elapsed": 11,
     "status": "ok",
     "timestamp": 1683447554827,
     "user": {
      "displayName": "Carles Navarro",
      "userId": "08891072405822318117"
     },
     "user_tz": -120
    },
    "id": "_PUMGSqf12oR"
   },
   "outputs": [],
   "source": [
    "from itertools import islice"
   ]
  },
  {
   "cell_type": "code",
   "execution_count": 63,
   "metadata": {
    "executionInfo": {
     "elapsed": 12,
     "status": "ok",
     "timestamp": 1683447554828,
     "user": {
      "displayName": "Carles Navarro",
      "userId": "08891072405822318117"
     },
     "user_tz": -120
    },
    "id": "btGXMKT115MT"
   },
   "outputs": [],
   "source": [
    "ss = Sampler(train_ds)"
   ]
  },
  {
   "cell_type": "code",
   "execution_count": 64,
   "metadata": {
    "colab": {
     "base_uri": "https://localhost:8080/"
    },
    "executionInfo": {
     "elapsed": 12,
     "status": "ok",
     "timestamp": 1683447554828,
     "user": {
      "displayName": "Carles Navarro",
      "userId": "08891072405822318117"
     },
     "user_tz": -120
    },
    "id": "jAEwPyZd16k2",
    "outputId": "f80d0ad9-b75a-4ca8-fb62-a35fe013882b"
   },
   "outputs": [
    {
     "name": "stdout",
     "output_type": "stream",
     "text": [
      "0\n",
      "1\n",
      "2\n",
      "3\n",
      "4\n"
     ]
    }
   ],
   "source": [
    "it = iter(ss)\n",
    "for o in range(5):\n",
    "  print(next(it))"
   ]
  },
  {
   "cell_type": "code",
   "execution_count": 65,
   "metadata": {
    "colab": {
     "base_uri": "https://localhost:8080/"
    },
    "executionInfo": {
     "elapsed": 11,
     "status": "ok",
     "timestamp": 1683447554828,
     "user": {
      "displayName": "Carles Navarro",
      "userId": "08891072405822318117"
     },
     "user_tz": -120
    },
    "id": "qO0A6nqi2AWD",
    "outputId": "ccb1c3cb-cafe-4d07-bdc7-a0a612baa4d7"
   },
   "outputs": [
    {
     "data": {
      "text/plain": [
       "[23297, 49190, 48501, 1374, 11964]"
      ]
     },
     "execution_count": 65,
     "metadata": {},
     "output_type": "execute_result"
    }
   ],
   "source": [
    "ss = Sampler(train_ds, shuffle=True)\n",
    "list(islice(ss, 5))"
   ]
  },
  {
   "cell_type": "code",
   "execution_count": 66,
   "metadata": {
    "executionInfo": {
     "elapsed": 8,
     "status": "ok",
     "timestamp": 1683447554828,
     "user": {
      "displayName": "Carles Navarro",
      "userId": "08891072405822318117"
     },
     "user_tz": -120
    },
    "id": "s-ctudQ32IAp"
   },
   "outputs": [],
   "source": [
    "import fastcore.all as fc"
   ]
  },
  {
   "cell_type": "code",
   "execution_count": 67,
   "metadata": {
    "executionInfo": {
     "elapsed": 8,
     "status": "ok",
     "timestamp": 1683447554828,
     "user": {
      "displayName": "Carles Navarro",
      "userId": "08891072405822318117"
     },
     "user_tz": -120
    },
    "id": "_jOUl07h2K1V"
   },
   "outputs": [],
   "source": [
    "class BatchSampler():\n",
    "  def __init__(self, sampler, bs, drop_last=False):\n",
    "    fc.store_attr()\n",
    "  \n",
    "  def __iter__(self):\n",
    "    yield from fc.chunked(iter(self.sampler), self.bs, drop_last=self.drop_last)"
   ]
  },
  {
   "cell_type": "code",
   "execution_count": 68,
   "metadata": {
    "colab": {
     "base_uri": "https://localhost:8080/"
    },
    "executionInfo": {
     "elapsed": 8,
     "status": "ok",
     "timestamp": 1683447554828,
     "user": {
      "displayName": "Carles Navarro",
      "userId": "08891072405822318117"
     },
     "user_tz": -120
    },
    "id": "gTNGzvR32kk4",
    "outputId": "b150ad79-78bd-43f3-c373-6e2a3a6b315f"
   },
   "outputs": [
    {
     "data": {
      "text/plain": [
       "[[39627, 20121, 32373, 31794],\n",
       " [5105, 23817, 33321, 20752],\n",
       " [21028, 2317, 7736, 30255],\n",
       " [30567, 41747, 20772, 14817],\n",
       " [1679, 26647, 1524, 47901]]"
      ]
     },
     "execution_count": 68,
     "metadata": {},
     "output_type": "execute_result"
    }
   ],
   "source": [
    "batchs = BatchSampler(ss, 4)\n",
    "list(islice(batchs, 5))"
   ]
  },
  {
   "cell_type": "code",
   "execution_count": 69,
   "metadata": {
    "executionInfo": {
     "elapsed": 7,
     "status": "ok",
     "timestamp": 1683447554828,
     "user": {
      "displayName": "Carles Navarro",
      "userId": "08891072405822318117"
     },
     "user_tz": -120
    },
    "id": "D5_QupRF2pWu"
   },
   "outputs": [],
   "source": [
    "def collate(b):\n",
    "  xs, ys = zip(*b)\n",
    "  return torch.stack(xs), torch.stack(ys)"
   ]
  },
  {
   "cell_type": "code",
   "execution_count": 70,
   "metadata": {
    "executionInfo": {
     "elapsed": 7,
     "status": "ok",
     "timestamp": 1683447554828,
     "user": {
      "displayName": "Carles Navarro",
      "userId": "08891072405822318117"
     },
     "user_tz": -120
    },
    "id": "K4Y5-Bjg3ogX"
   },
   "outputs": [],
   "source": [
    "class DataLoader():\n",
    "  def __init__(self, ds, batchs, collate_fn=collate):\n",
    "    fc.store_attr()\n",
    "  \n",
    "  def __iter__(self):\n",
    "    yield from (self.collate_fn(self.ds[i] for i in b) for b in self.batchs)"
   ]
  },
  {
   "cell_type": "code",
   "execution_count": 71,
   "metadata": {
    "executionInfo": {
     "elapsed": 6,
     "status": "ok",
     "timestamp": 1683447554828,
     "user": {
      "displayName": "Carles Navarro",
      "userId": "08891072405822318117"
     },
     "user_tz": -120
    },
    "id": "4mT71QNB37BU"
   },
   "outputs": [],
   "source": [
    "train_samp = BatchSampler(Sampler(train_ds, shuffle=True), bs)\n",
    "valid_samp = BatchSampler(Sampler(valid_ds, shuffle=False), bs)"
   ]
  },
  {
   "cell_type": "code",
   "execution_count": 72,
   "metadata": {
    "executionInfo": {
     "elapsed": 7,
     "status": "ok",
     "timestamp": 1683447554829,
     "user": {
      "displayName": "Carles Navarro",
      "userId": "08891072405822318117"
     },
     "user_tz": -120
    },
    "id": "GZKQMTvy4FGi"
   },
   "outputs": [],
   "source": [
    "train_dl = DataLoader(train_ds, batchs=train_samp)\n",
    "valid_dl = DataLoader(valid_ds, batchs=valid_samp)"
   ]
  },
  {
   "cell_type": "code",
   "execution_count": 73,
   "metadata": {
    "colab": {
     "base_uri": "https://localhost:8080/",
     "height": 448
    },
    "executionInfo": {
     "elapsed": 422,
     "status": "ok",
     "timestamp": 1683447555244,
     "user": {
      "displayName": "Carles Navarro",
      "userId": "08891072405822318117"
     },
     "user_tz": -120
    },
    "id": "3FFxHN8A4RRr",
    "outputId": "01e58ead-86b7-45ce-d8f2-e9908bb746d4"
   },
   "outputs": [
    {
     "data": {
      "text/plain": [
       "tensor(3)"
      ]
     },
     "execution_count": 73,
     "metadata": {},
     "output_type": "execute_result"
    },
    {
     "data": {
      "image/png": "[encoded data removed]",
      "text/plain": [
       "<Figure size 640x480 with 1 Axes>"
      ]
     },
     "metadata": {},
     "output_type": "display_data"
    }
   ],
   "source": [
    "xb, yb = next(iter(valid_dl))\n",
    "plt.imshow(xb[0].view(28,28))\n",
    "yb[0]"
   ]
  },
  {
   "cell_type": "markdown",
   "metadata": {
    "id": "ChCjhMy0Thif"
   },
   "source": [
    "## Multiprocessing DataLoader"
   ]
  },
  {
   "cell_type": "code",
   "execution_count": 74,
   "metadata": {
    "executionInfo": {
     "elapsed": 1,
     "status": "ok",
     "timestamp": 1683448115613,
     "user": {
      "displayName": "Carles Navarro",
      "userId": "08891072405822318117"
     },
     "user_tz": -120
    },
    "id": "6cWKBq534YsO"
   },
   "outputs": [],
   "source": [
    "import torch.multiprocessing as mp\n",
    "from fastcore.basics import store_attr"
   ]
  },
  {
   "cell_type": "code",
   "execution_count": 77,
   "metadata": {
    "colab": {
     "base_uri": "https://localhost:8080/"
    },
    "executionInfo": {
     "elapsed": 2,
     "status": "ok",
     "timestamp": 1683448134279,
     "user": {
      "displayName": "Carles Navarro",
      "userId": "08891072405822318117"
     },
     "user_tz": -120
    },
    "id": "bP23EcQvU6xv",
    "outputId": "5a5a3968-581a-4fbc-a74c-24474999e877"
   },
   "outputs": [
    {
     "data": {
      "text/plain": [
       "(tensor([[0., 0., 0.,  ..., 0., 0., 0.],\n",
       "         [0., 0., 0.,  ..., 0., 0., 0.],\n",
       "         [0., 0., 0.,  ..., 0., 0., 0.],\n",
       "         [0., 0., 0.,  ..., 0., 0., 0.]]),\n",
       " tensor([1, 1, 1, 0]))"
      ]
     },
     "execution_count": 77,
     "metadata": {},
     "output_type": "execute_result"
    }
   ],
   "source": [
    "train_ds[[3,6,8,1]]"
   ]
  },
  {
   "cell_type": "code",
   "execution_count": 78,
   "metadata": {
    "colab": {
     "base_uri": "https://localhost:8080/"
    },
    "executionInfo": {
     "elapsed": 1,
     "status": "ok",
     "timestamp": 1683448162228,
     "user": {
      "displayName": "Carles Navarro",
      "userId": "08891072405822318117"
     },
     "user_tz": -120
    },
    "id": "9R-ngqEfU96e",
    "outputId": "c414f3b7-acb8-420b-da62-48ae09ce5849"
   },
   "outputs": [
    {
     "data": {
      "text/plain": [
       "(tensor([[0., 0., 0.,  ..., 0., 0., 0.],\n",
       "         [0., 0., 0.,  ..., 0., 0., 0.],\n",
       "         [0., 0., 0.,  ..., 0., 0., 0.],\n",
       "         [0., 0., 0.,  ..., 0., 0., 0.]]),\n",
       " tensor([1, 1, 1, 0]))"
      ]
     },
     "execution_count": 78,
     "metadata": {},
     "output_type": "execute_result"
    }
   ],
   "source": [
    "train_ds.__getitem__([[3,6,8,1]])"
   ]
  },
  {
   "cell_type": "code",
   "execution_count": 79,
   "metadata": {
    "colab": {
     "base_uri": "https://localhost:8080/"
    },
    "executionInfo": {
     "elapsed": 1,
     "status": "ok",
     "timestamp": 1683448194342,
     "user": {
      "displayName": "Carles Navarro",
      "userId": "08891072405822318117"
     },
     "user_tz": -120
    },
    "id": "EGHtzjxYVGPr",
    "outputId": "3d8e151d-a638-4c0d-9776-462b97974144"
   },
   "outputs": [
    {
     "name": "stdout",
     "output_type": "stream",
     "text": [
      "(tensor([[0., 0., 0.,  ..., 0., 0., 0.],\n",
      "        [0., 0., 0.,  ..., 0., 0., 0.]]), tensor([1, 1]))\n",
      "(tensor([[0., 0., 0.,  ..., 0., 0., 0.],\n",
      "        [0., 0., 0.,  ..., 0., 0., 0.]]), tensor([1, 0]))\n"
     ]
    }
   ],
   "source": [
    "for o in map(train_ds.__getitem__, ([3,6], [8,1])):\n",
    "  print(o)"
   ]
  },
  {
   "cell_type": "code",
   "execution_count": 83,
   "metadata": {
    "executionInfo": {
     "elapsed": 1,
     "status": "ok",
     "timestamp": 1683448361393,
     "user": {
      "displayName": "Carles Navarro",
      "userId": "08891072405822318117"
     },
     "user_tz": -120
    },
    "id": "7Zwi2E_MVN-a"
   },
   "outputs": [],
   "source": [
    "class DataLoader:\n",
    "  def __init__(self, ds, batchs, n_workers=1, collate_fn=collate):\n",
    "    fc.store_attr()\n",
    "  \n",
    "  def __iter__(self):\n",
    "    with mp.Pool(self.n_workers) as ex:\n",
    "      yield from ex.map(self.ds.__getitem__, iter(self.batchs))"
   ]
  },
  {
   "cell_type": "code",
   "execution_count": 84,
   "metadata": {
    "executionInfo": {
     "elapsed": 1,
     "status": "ok",
     "timestamp": 1683448362501,
     "user": {
      "displayName": "Carles Navarro",
      "userId": "08891072405822318117"
     },
     "user_tz": -120
    },
    "id": "PmJcSS_5VpwL"
   },
   "outputs": [],
   "source": [
    "train_dl = DataLoader(train_ds, batchs = train_samp, n_workers=2)\n",
    "it = iter(train_dl)"
   ]
  },
  {
   "cell_type": "code",
   "execution_count": 85,
   "metadata": {
    "colab": {
     "base_uri": "https://localhost:8080/"
    },
    "executionInfo": {
     "elapsed": 4636,
     "status": "ok",
     "timestamp": 1683448375736,
     "user": {
      "displayName": "Carles Navarro",
      "userId": "08891072405822318117"
     },
     "user_tz": -120
    },
    "id": "pmT_FhwBVwbp",
    "outputId": "cfbf1afa-884c-4f48-cd49-d289a972aaec"
   },
   "outputs": [
    {
     "data": {
      "text/plain": [
       "(tensor([[0., 0., 0.,  ..., 0., 0., 0.],\n",
       "         [0., 0., 0.,  ..., 0., 0., 0.],\n",
       "         [0., 0., 0.,  ..., 0., 0., 0.],\n",
       "         ...,\n",
       "         [0., 0., 0.,  ..., 0., 0., 0.],\n",
       "         [0., 0., 0.,  ..., 0., 0., 0.],\n",
       "         [0., 0., 0.,  ..., 0., 0., 0.]]),\n",
       " tensor([2, 7, 9, 6, 6, 6, 3, 1, 4, 9, 7, 5, 9, 4, 0, 8, 9, 9, 6, 0, 1, 9, 4, 0, 4, 9, 5, 6, 6, 0, 9, 9, 3, 3, 9, 6, 6, 6, 8,\n",
       "         4, 9, 9, 8, 0, 4, 5, 0, 3, 0, 4]))"
      ]
     },
     "execution_count": 85,
     "metadata": {},
     "output_type": "execute_result"
    }
   ],
   "source": [
    "next(it)"
   ]
  },
  {
   "cell_type": "markdown",
   "metadata": {
    "id": "D4-WuggXV7IT"
   },
   "source": [
    "## Pytorch DataLoader"
   ]
  },
  {
   "cell_type": "code",
   "execution_count": 86,
   "metadata": {
    "executionInfo": {
     "elapsed": 2,
     "status": "ok",
     "timestamp": 1683448408979,
     "user": {
      "displayName": "Carles Navarro",
      "userId": "08891072405822318117"
     },
     "user_tz": -120
    },
    "id": "YPROzOnhV5MF"
   },
   "outputs": [],
   "source": [
    "from torch.utils.data import DataLoader, SequentialSampler, RandomSampler, BatchSampler"
   ]
  },
  {
   "cell_type": "code",
   "execution_count": 89,
   "metadata": {
    "executionInfo": {
     "elapsed": 3,
     "status": "ok",
     "timestamp": 1683448461030,
     "user": {
      "displayName": "Carles Navarro",
      "userId": "08891072405822318117"
     },
     "user_tz": -120
    },
    "id": "F0_JCUFIWChs"
   },
   "outputs": [],
   "source": [
    "train_samp = BatchSampler(RandomSampler(train_ds), bs, drop_last=False)\n",
    "valid_samp = BatchSampler(SequentialSampler(valid_ds), bs, drop_last=False)"
   ]
  },
  {
   "cell_type": "code",
   "execution_count": 90,
   "metadata": {
    "executionInfo": {
     "elapsed": 485,
     "status": "ok",
     "timestamp": 1683448499161,
     "user": {
      "displayName": "Carles Navarro",
      "userId": "08891072405822318117"
     },
     "user_tz": -120
    },
    "id": "Z-wTYeu7WNPV"
   },
   "outputs": [],
   "source": [
    "train_dl = DataLoader(train_ds, batch_sampler=train_samp, collate_fn = collate)\n",
    "valid_dl = DataLoader(valid_ds, batch_sampler=valid_samp, collate_fn = collate)"
   ]
  },
  {
   "cell_type": "code",
   "execution_count": 91,
   "metadata": {
    "colab": {
     "base_uri": "https://localhost:8080/"
    },
    "executionInfo": {
     "elapsed": 4215,
     "status": "ok",
     "timestamp": 1683448533536,
     "user": {
      "displayName": "Carles Navarro",
      "userId": "08891072405822318117"
     },
     "user_tz": -120
    },
    "id": "MrSONTm9WYfQ",
    "outputId": "0490d456-32c4-4b32-8bed-5e24b217d85b"
   },
   "outputs": [
    {
     "name": "stdout",
     "output_type": "stream",
     "text": [
      "0.17, 0.92\n"
     ]
    },
    {
     "data": {
      "text/plain": [
       "(tensor(0.12, grad_fn=<NllLossBackward0>), tensor(0.94))"
      ]
     },
     "execution_count": 91,
     "metadata": {},
     "output_type": "execute_result"
    }
   ],
   "source": [
    "model, opt = get_model()\n",
    "fit()\n",
    "loss_func(model(xb), yb), accuracy(model(xb), yb)"
   ]
  },
  {
   "cell_type": "code",
   "execution_count": 92,
   "metadata": {
    "executionInfo": {
     "elapsed": 2,
     "status": "ok",
     "timestamp": 1683448609700,
     "user": {
      "displayName": "Carles Navarro",
      "userId": "08891072405822318117"
     },
     "user_tz": -120
    },
    "id": "6nNNUpedWf4u"
   },
   "outputs": [],
   "source": [
    "train_dl = DataLoader(train_ds, bs, shuffle=True, drop_last=True, num_workers = 2)\n",
    "valid_dl = DataLoader(valid_ds, bs, shuffle=False, num_workers = 2)\n"
   ]
  },
  {
   "cell_type": "code",
   "execution_count": 93,
   "metadata": {
    "colab": {
     "base_uri": "https://localhost:8080/"
    },
    "executionInfo": {
     "elapsed": 12933,
     "status": "ok",
     "timestamp": 1683448629741,
     "user": {
      "displayName": "Carles Navarro",
      "userId": "08891072405822318117"
     },
     "user_tz": -120
    },
    "id": "i5DYPzbjWznE",
    "outputId": "e06931be-c618-4632-c07b-9b103db6cdb6"
   },
   "outputs": [
    {
     "name": "stdout",
     "output_type": "stream",
     "text": [
      "0.39, 0.90\n"
     ]
    },
    {
     "data": {
      "text/plain": [
       "(tensor(0.70, grad_fn=<NllLossBackward0>), tensor(0.82))"
      ]
     },
     "execution_count": 93,
     "metadata": {},
     "output_type": "execute_result"
    }
   ],
   "source": [
    "model, opt = get_model()\n",
    "fit()\n",
    "loss_func(model(xb), yb), accuracy(model(xb), yb)"
   ]
  },
  {
   "cell_type": "code",
   "execution_count": 94,
   "metadata": {
    "executionInfo": {
     "elapsed": 2,
     "status": "ok",
     "timestamp": 1683448729637,
     "user": {
      "displayName": "Carles Navarro",
      "userId": "08891072405822318117"
     },
     "user_tz": -120
    },
    "id": "Xrqbw_fqW1Tq"
   },
   "outputs": [],
   "source": [
    "train_dl = DataLoader(train_ds, sampler=train_samp)\n",
    "valid_dl = DataLoader(valid_ds, sampler=valid_samp)"
   ]
  },
  {
   "cell_type": "code",
   "execution_count": 95,
   "metadata": {
    "colab": {
     "base_uri": "https://localhost:8080/"
    },
    "executionInfo": {
     "elapsed": 1,
     "status": "ok",
     "timestamp": 1683448736567,
     "user": {
      "displayName": "Carles Navarro",
      "userId": "08891072405822318117"
     },
     "user_tz": -120
    },
    "id": "wOx3TslaXQtA",
    "outputId": "988fb8fd-257e-4076-a77b-c44769c2ec5a"
   },
   "outputs": [
    {
     "data": {
      "text/plain": [
       "[tensor([[[0., 0., 0.,  ..., 0., 0., 0.],\n",
       "          [0., 0., 0.,  ..., 0., 0., 0.],\n",
       "          [0., 0., 0.,  ..., 0., 0., 0.],\n",
       "          ...,\n",
       "          [0., 0., 0.,  ..., 0., 0., 0.],\n",
       "          [0., 0., 0.,  ..., 0., 0., 0.],\n",
       "          [0., 0., 0.,  ..., 0., 0., 0.]]]),\n",
       " tensor([[5, 0, 2, 0, 7, 3, 4, 3, 4, 1, 1, 1, 9, 3, 7, 0, 6, 9, 5, 0, 9, 3, 2, 8, 6, 1, 8, 2, 2, 9, 1, 6, 4, 7, 6, 1, 5, 6, 6,\n",
       "          1, 0, 6, 5, 8, 4, 9, 3, 4, 3, 8]])]"
      ]
     },
     "execution_count": 95,
     "metadata": {},
     "output_type": "execute_result"
    }
   ],
   "source": [
    "next(iter(train_dl))"
   ]
  },
  {
   "cell_type": "markdown",
   "metadata": {
    "id": "BNoEMYxXXVjJ"
   },
   "source": [
    "## Validation"
   ]
  },
  {
   "cell_type": "code",
   "execution_count": 96,
   "metadata": {
    "executionInfo": {
     "elapsed": 418,
     "status": "ok",
     "timestamp": 1683448959052,
     "user": {
      "displayName": "Carles Navarro",
      "userId": "08891072405822318117"
     },
     "user_tz": -120
    },
    "id": "9rfk5mopXSQz"
   },
   "outputs": [],
   "source": [
    "def fit(epochs, model, loss_func, opt, train_dl, valid_dl):\n",
    "  for epoch in range(epochs):\n",
    "    model.train()\n",
    "    for xb, yb in train_dl:\n",
    "      loss = loss_func(model(xb), yb)\n",
    "      loss.backward()\n",
    "      opt.step()\n",
    "      opt.zero_grad()\n",
    "    \n",
    "    model.eval()\n",
    "    with torch.no_grad():\n",
    "      tot_loss, tot_acc, count = 0., 0., 0\n",
    "      for xb, yb in valid_dl:\n",
    "        pred = model(xb)\n",
    "        n = len(xb)\n",
    "        count += n\n",
    "        tot_loss += loss_func(pred, yb).item() * n\n",
    "        tot_acc += accuracy(pred, yb).item() * n\n",
    "    print(epoch, tot_loss/count, tot_acc/count)\n",
    "  \n",
    "  return tot_loss/count, tot_acc/count"
   ]
  },
  {
   "cell_type": "code",
   "execution_count": 97,
   "metadata": {
    "executionInfo": {
     "elapsed": 2,
     "status": "ok",
     "timestamp": 1683449018775,
     "user": {
      "displayName": "Carles Navarro",
      "userId": "08891072405822318117"
     },
     "user_tz": -120
    },
    "id": "ltXQhOwoYIx7"
   },
   "outputs": [],
   "source": [
    "def get_dls(train_ds, valid_ds, bs, **kwargs):\n",
    "  return (DataLoader(train_ds, batch_size=bs, shuffle=True, **kwargs),\n",
    "          DataLoader(valid_ds, batch_size=bs*2, shuffle=False, **kwargs)\n",
    "          )"
   ]
  },
  {
   "cell_type": "code",
   "execution_count": 98,
   "metadata": {
    "colab": {
     "base_uri": "https://localhost:8080/"
    },
    "executionInfo": {
     "elapsed": 7173,
     "status": "ok",
     "timestamp": 1683449076386,
     "user": {
      "displayName": "Carles Navarro",
      "userId": "08891072405822318117"
     },
     "user_tz": -120
    },
    "id": "6Incr3eNYXb6",
    "outputId": "53ff34f5-99bb-4340-f8f8-39df4426d386"
   },
   "outputs": [
    {
     "name": "stdout",
     "output_type": "stream",
     "text": [
      "0 0.15938207839615642 0.9529000061750412\n",
      "1 0.1281359902303666 0.9623000061511994\n",
      "2 0.11384971430059522 0.967700006365776\n",
      "3 0.12173384747467936 0.9652000045776368\n",
      "4 0.10598108069971204 0.9720000070333481\n"
     ]
    }
   ],
   "source": [
    "train_dl, valid_dl = get_dls(train_ds, valid_ds, bs)\n",
    "model, opt = get_model()\n",
    "loss, acc = fit(5, model, loss_func, opt, train_dl, valid_dl)"
   ]
  },
  {
   "cell_type": "code",
   "execution_count": null,
   "metadata": {
    "id": "bUVDR3DHYjsn"
   },
   "outputs": [],
   "source": []
  }
 ],
 "metadata": {
  "colab": {
   "authorship_tag": "ABX9TyPwO+ztcLETliTgoq3NeuxZ",
   "provenance": []
  },
  "kernelspec": {
   "display_name": "Python 3 (ipykernel)",
   "language": "python",
   "name": "python3"
  },
  "language_info": {
   "codemirror_mode": {
    "name": "ipython",
    "version": 3
   },
   "file_extension": ".py",
   "mimetype": "text/x-python",
   "name": "python",
   "nbconvert_exporter": "python",
   "pygments_lexer": "ipython3",
   "version": "3.10.8"
  }
 },
 "nbformat": 4,
 "nbformat_minor": 4
}
