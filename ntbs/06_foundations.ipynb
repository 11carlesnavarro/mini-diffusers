{
 "cells": [
  {
   "cell_type": "code",
   "execution_count": 1,
   "metadata": {
    "executionInfo": {
     "elapsed": 6502,
     "status": "ok",
     "timestamp": 1683569745727,
     "user": {
      "displayName": "Carles Navarro",
      "userId": "08891072405822318117"
     },
     "user_tz": -120
    },
    "id": "H3elFcppTy1k"
   },
   "outputs": [],
   "source": [
    "import torch\n",
    "import matplotlib.pyplot as plt\n",
    "import random"
   ]
  },
  {
   "cell_type": "markdown",
   "metadata": {
    "id": "MqDe-K3AT8t6"
   },
   "source": [
    "# Callbacks"
   ]
  },
  {
   "cell_type": "markdown",
   "metadata": {
    "id": "EIthEwSrT-Ph"
   },
   "source": [
    "## Callbacks as GUI events"
   ]
  },
  {
   "cell_type": "code",
   "execution_count": 2,
   "metadata": {
    "executionInfo": {
     "elapsed": 7,
     "status": "ok",
     "timestamp": 1683569745728,
     "user": {
      "displayName": "Carles Navarro",
      "userId": "08891072405822318117"
     },
     "user_tz": -120
    },
    "id": "syPkYnpAT8VO"
   },
   "outputs": [],
   "source": [
    "import ipywidgets as widgets"
   ]
  },
  {
   "cell_type": "code",
   "execution_count": 3,
   "metadata": {
    "executionInfo": {
     "elapsed": 7,
     "status": "ok",
     "timestamp": 1683569745728,
     "user": {
      "displayName": "Carles Navarro",
      "userId": "08891072405822318117"
     },
     "user_tz": -120
    },
    "id": "ZqftK6KUUCGL"
   },
   "outputs": [],
   "source": [
    "w = widgets.Button(description='Click me')"
   ]
  },
  {
   "cell_type": "code",
   "execution_count": 4,
   "metadata": {
    "colab": {
     "base_uri": "https://localhost:8080/",
     "height": 49,
     "referenced_widgets": [
      "302fe7e72e6e4c4ea709f6664ef9a6f8",
      "3354751519f3421f940a161778cfd4df",
      "9ef2b042639d483ba62817090b6d1821"
     ]
    },
    "executionInfo": {
     "elapsed": 5,
     "status": "ok",
     "timestamp": 1683569745728,
     "user": {
      "displayName": "Carles Navarro",
      "userId": "08891072405822318117"
     },
     "user_tz": -120
    },
    "id": "gVilMAFxWQaz",
    "outputId": "586a01de-c494-4205-b14e-b09b29824349"
   },
   "outputs": [
    {
     "data": {
      "application/vnd.jupyter.widget-view+json": {
       "model_id": "302fe7e72e6e4c4ea709f6664ef9a6f8",
       "version_major": 2,
       "version_minor": 0
      },
      "text/plain": [
       "Button(description='Click me', style=ButtonStyle())"
      ]
     },
     "metadata": {},
     "output_type": "display_data"
    }
   ],
   "source": [
    "w"
   ]
  },
  {
   "cell_type": "code",
   "execution_count": 5,
   "metadata": {
    "executionInfo": {
     "elapsed": 5,
     "status": "ok",
     "timestamp": 1683569745728,
     "user": {
      "displayName": "Carles Navarro",
      "userId": "08891072405822318117"
     },
     "user_tz": -120
    },
    "id": "au5wzFg4WQ3A"
   },
   "outputs": [],
   "source": [
    "def f(o):\n",
    "  print('hi')"
   ]
  },
  {
   "cell_type": "code",
   "execution_count": 6,
   "metadata": {
    "executionInfo": {
     "elapsed": 5,
     "status": "ok",
     "timestamp": 1683569745728,
     "user": {
      "displayName": "Carles Navarro",
      "userId": "08891072405822318117"
     },
     "user_tz": -120
    },
    "id": "ry-EY9D8WVVO"
   },
   "outputs": [],
   "source": [
    "w.on_click(f)"
   ]
  },
  {
   "cell_type": "code",
   "execution_count": 6,
   "metadata": {
    "executionInfo": {
     "elapsed": 4,
     "status": "ok",
     "timestamp": 1683569745728,
     "user": {
      "displayName": "Carles Navarro",
      "userId": "08891072405822318117"
     },
     "user_tz": -120
    },
    "id": "dPZ-b-0AWW2k"
   },
   "outputs": [],
   "source": []
  },
  {
   "cell_type": "markdown",
   "metadata": {
    "id": "fcqbdUdWWcqj"
   },
   "source": [
    "## Creating your own callback"
   ]
  },
  {
   "cell_type": "code",
   "execution_count": 7,
   "metadata": {
    "executionInfo": {
     "elapsed": 4,
     "status": "ok",
     "timestamp": 1683569745728,
     "user": {
      "displayName": "Carles Navarro",
      "userId": "08891072405822318117"
     },
     "user_tz": -120
    },
    "id": "DFzgxIr0WZW9"
   },
   "outputs": [],
   "source": [
    "from time import sleep"
   ]
  },
  {
   "cell_type": "code",
   "execution_count": 8,
   "metadata": {
    "executionInfo": {
     "elapsed": 4,
     "status": "ok",
     "timestamp": 1683569745728,
     "user": {
      "displayName": "Carles Navarro",
      "userId": "08891072405822318117"
     },
     "user_tz": -120
    },
    "id": "pWekLT0SWfz5"
   },
   "outputs": [],
   "source": [
    "def slow_calculation():\n",
    "  res = 0\n",
    "  for i in range(5):\n",
    "    res += i*i\n",
    "    sleep(1)\n",
    "  return res"
   ]
  },
  {
   "cell_type": "code",
   "execution_count": 9,
   "metadata": {
    "colab": {
     "base_uri": "https://localhost:8080/"
    },
    "executionInfo": {
     "elapsed": 4331,
     "status": "ok",
     "timestamp": 1683569750055,
     "user": {
      "displayName": "Carles Navarro",
      "userId": "08891072405822318117"
     },
     "user_tz": -120
    },
    "id": "WoLOTg70W7Aj",
    "outputId": "c33bce81-71de-4c0b-f8d5-4a549c85b084"
   },
   "outputs": [
    {
     "data": {
      "text/plain": [
       "30"
      ]
     },
     "execution_count": 9,
     "metadata": {},
     "output_type": "execute_result"
    }
   ],
   "source": [
    "slow_calculation()"
   ]
  },
  {
   "cell_type": "code",
   "execution_count": 10,
   "metadata": {
    "executionInfo": {
     "elapsed": 4,
     "status": "ok",
     "timestamp": 1683569750056,
     "user": {
      "displayName": "Carles Navarro",
      "userId": "08891072405822318117"
     },
     "user_tz": -120
    },
    "id": "m65J50qxW8qe"
   },
   "outputs": [],
   "source": [
    "def slow_calculation(cb=None):\n",
    "  res = 0\n",
    "  for i in range(5):\n",
    "    res += i*i\n",
    "    sleep(1)\n",
    "    if cb:\n",
    "      cb(i)\n",
    "  return res"
   ]
  },
  {
   "cell_type": "code",
   "execution_count": 11,
   "metadata": {
    "executionInfo": {
     "elapsed": 3,
     "status": "ok",
     "timestamp": 1683569750056,
     "user": {
      "displayName": "Carles Navarro",
      "userId": "08891072405822318117"
     },
     "user_tz": -120
    },
    "id": "HiyjAeLVXC7R"
   },
   "outputs": [],
   "source": [
    "def show_progress(epoch):\n",
    "  print(f\"Awesome! We've finished epoch {epoch} \")"
   ]
  },
  {
   "cell_type": "code",
   "execution_count": 12,
   "metadata": {
    "colab": {
     "base_uri": "https://localhost:8080/"
    },
    "executionInfo": {
     "elapsed": 5564,
     "status": "ok",
     "timestamp": 1683569755618,
     "user": {
      "displayName": "Carles Navarro",
      "userId": "08891072405822318117"
     },
     "user_tz": -120
    },
    "id": "qqX4TToBXLBa",
    "outputId": "7ae2c755-fc4a-4db4-8207-4c22a53450dc"
   },
   "outputs": [
    {
     "name": "stdout",
     "output_type": "stream",
     "text": [
      "Awesome! We've finished epoch 0 \n",
      "Awesome! We've finished epoch 1 \n",
      "Awesome! We've finished epoch 2 \n",
      "Awesome! We've finished epoch 3 \n",
      "Awesome! We've finished epoch 4 \n"
     ]
    },
    {
     "data": {
      "text/plain": [
       "30"
      ]
     },
     "execution_count": 12,
     "metadata": {},
     "output_type": "execute_result"
    }
   ],
   "source": [
    "slow_calculation(show_progress)"
   ]
  },
  {
   "cell_type": "markdown",
   "metadata": {
    "id": "P2rw1-wGXUjt"
   },
   "source": [
    "## Lambdas and partials"
   ]
  },
  {
   "cell_type": "code",
   "execution_count": 13,
   "metadata": {
    "colab": {
     "base_uri": "https://localhost:8080/"
    },
    "executionInfo": {
     "elapsed": 4507,
     "status": "ok",
     "timestamp": 1683569760122,
     "user": {
      "displayName": "Carles Navarro",
      "userId": "08891072405822318117"
     },
     "user_tz": -120
    },
    "id": "WAsHwg77XNib",
    "outputId": "a7741bb8-a1cb-43e3-a312-31205254dd59"
   },
   "outputs": [
    {
     "name": "stdout",
     "output_type": "stream",
     "text": [
      "Awesome! We've finished epoch 0!\n",
      "Awesome! We've finished epoch 1!\n",
      "Awesome! We've finished epoch 2!\n",
      "Awesome! We've finished epoch 3!\n",
      "Awesome! We've finished epoch 4!\n"
     ]
    },
    {
     "data": {
      "text/plain": [
       "30"
      ]
     },
     "execution_count": 13,
     "metadata": {},
     "output_type": "execute_result"
    }
   ],
   "source": [
    "slow_calculation(lambda o: print(f\"Awesome! We've finished epoch {o}!\"))"
   ]
  },
  {
   "cell_type": "code",
   "execution_count": 14,
   "metadata": {
    "executionInfo": {
     "elapsed": 18,
     "status": "ok",
     "timestamp": 1683569760122,
     "user": {
      "displayName": "Carles Navarro",
      "userId": "08891072405822318117"
     },
     "user_tz": -120
    },
    "id": "HIwjO1ShXcMI"
   },
   "outputs": [],
   "source": [
    "def show_progress(exclamation, epoch):\n",
    "  print(f\"{exclamation} We've finished epoch {epoch}\")"
   ]
  },
  {
   "cell_type": "code",
   "execution_count": 15,
   "metadata": {
    "colab": {
     "base_uri": "https://localhost:8080/"
    },
    "executionInfo": {
     "elapsed": 5414,
     "status": "ok",
     "timestamp": 1683569765519,
     "user": {
      "displayName": "Carles Navarro",
      "userId": "08891072405822318117"
     },
     "user_tz": -120
    },
    "id": "m77wm7DsXq61",
    "outputId": "9ff69516-670a-4bb2-f7de-ea13ede02d1d"
   },
   "outputs": [
    {
     "name": "stdout",
     "output_type": "stream",
     "text": [
      "Ok I guess We've finished epoch 0\n",
      "Ok I guess We've finished epoch 1\n",
      "Ok I guess We've finished epoch 2\n",
      "Ok I guess We've finished epoch 3\n",
      "Ok I guess We've finished epoch 4\n"
     ]
    },
    {
     "data": {
      "text/plain": [
       "30"
      ]
     },
     "execution_count": 15,
     "metadata": {},
     "output_type": "execute_result"
    }
   ],
   "source": [
    "slow_calculation(lambda o: show_progress('Ok I guess', o))"
   ]
  },
  {
   "cell_type": "code",
   "execution_count": 16,
   "metadata": {
    "executionInfo": {
     "elapsed": 19,
     "status": "ok",
     "timestamp": 1683569765520,
     "user": {
      "displayName": "Carles Navarro",
      "userId": "08891072405822318117"
     },
     "user_tz": -120
    },
    "id": "z3NzLdWKXxF3"
   },
   "outputs": [],
   "source": [
    "def make_show_progress(exclamation):\n",
    "  _inner = lambda epoch: print(f\"{exclamation}! We've finished epoch {epoch}\")\n",
    "  return _inner"
   ]
  },
  {
   "cell_type": "code",
   "execution_count": 17,
   "metadata": {
    "colab": {
     "base_uri": "https://localhost:8080/"
    },
    "executionInfo": {
     "elapsed": 5030,
     "status": "ok",
     "timestamp": 1683569770532,
     "user": {
      "displayName": "Carles Navarro",
      "userId": "08891072405822318117"
     },
     "user_tz": -120
    },
    "id": "QRG8Ncq4YQDF",
    "outputId": "c2352b23-1861-4e94-c4a0-ed912e317f01"
   },
   "outputs": [
    {
     "name": "stdout",
     "output_type": "stream",
     "text": [
      "Nice! We've finished epoch 0\n",
      "Nice! We've finished epoch 1\n",
      "Nice! We've finished epoch 2\n",
      "Nice! We've finished epoch 3\n",
      "Nice! We've finished epoch 4\n"
     ]
    },
    {
     "data": {
      "text/plain": [
       "30"
      ]
     },
     "execution_count": 17,
     "metadata": {},
     "output_type": "execute_result"
    }
   ],
   "source": [
    "slow_calculation(make_show_progress('Nice'))"
   ]
  },
  {
   "cell_type": "code",
   "execution_count": 18,
   "metadata": {
    "executionInfo": {
     "elapsed": 17,
     "status": "ok",
     "timestamp": 1683569770533,
     "user": {
      "displayName": "Carles Navarro",
      "userId": "08891072405822318117"
     },
     "user_tz": -120
    },
    "id": "2ube25-2YSU-"
   },
   "outputs": [],
   "source": [
    "from functools import partial"
   ]
  },
  {
   "cell_type": "code",
   "execution_count": 19,
   "metadata": {
    "colab": {
     "base_uri": "https://localhost:8080/"
    },
    "executionInfo": {
     "elapsed": 4879,
     "status": "ok",
     "timestamp": 1683569775396,
     "user": {
      "displayName": "Carles Navarro",
      "userId": "08891072405822318117"
     },
     "user_tz": -120
    },
    "id": "gBBeTFh2Ygqh",
    "outputId": "84c64901-15b6-42d9-cef1-e194d6d0a543"
   },
   "outputs": [
    {
     "name": "stdout",
     "output_type": "stream",
     "text": [
      "Ok I guess We've finished epoch 0\n",
      "Ok I guess We've finished epoch 1\n",
      "Ok I guess We've finished epoch 2\n",
      "Ok I guess We've finished epoch 3\n",
      "Ok I guess We've finished epoch 4\n"
     ]
    },
    {
     "data": {
      "text/plain": [
       "30"
      ]
     },
     "execution_count": 19,
     "metadata": {},
     "output_type": "execute_result"
    }
   ],
   "source": [
    "slow_calculation(partial(show_progress, \"Ok I guess\"))"
   ]
  },
  {
   "cell_type": "code",
   "execution_count": 20,
   "metadata": {
    "executionInfo": {
     "elapsed": 19,
     "status": "ok",
     "timestamp": 1683569775396,
     "user": {
      "displayName": "Carles Navarro",
      "userId": "08891072405822318117"
     },
     "user_tz": -120
    },
    "id": "EQeQgDrIYkzy"
   },
   "outputs": [],
   "source": [
    "f2 = partial(show_progress, 'Ok I guess')"
   ]
  },
  {
   "cell_type": "code",
   "execution_count": 21,
   "metadata": {
    "colab": {
     "base_uri": "https://localhost:8080/"
    },
    "executionInfo": {
     "elapsed": 19,
     "status": "ok",
     "timestamp": 1683569775397,
     "user": {
      "displayName": "Carles Navarro",
      "userId": "08891072405822318117"
     },
     "user_tz": -120
    },
    "id": "pffTdHpmYrGr",
    "outputId": "4ff0f621-1f56-4d1d-c8a2-5b44dc6042a3"
   },
   "outputs": [
    {
     "name": "stdout",
     "output_type": "stream",
     "text": [
      "Ok I guess We've finished epoch 2\n"
     ]
    }
   ],
   "source": [
    "f2(2)"
   ]
  },
  {
   "cell_type": "markdown",
   "metadata": {
    "id": "YUdWm19ZYuwT"
   },
   "source": [
    "## Callbacks as callable classes"
   ]
  },
  {
   "cell_type": "code",
   "execution_count": 22,
   "metadata": {
    "executionInfo": {
     "elapsed": 17,
     "status": "ok",
     "timestamp": 1683569775397,
     "user": {
      "displayName": "Carles Navarro",
      "userId": "08891072405822318117"
     },
     "user_tz": -120
    },
    "id": "xSYHYVIHYuK1"
   },
   "outputs": [],
   "source": [
    "class ProgressShowingCallback():\n",
    "  def __init__(self, exclamation='Awesome'):\n",
    "    self.exclamation = exclamation\n",
    "  def __call__(self, epoch):\n",
    "    print(f\"{self.exclamation}! We've finished epoch {epoch}\")"
   ]
  },
  {
   "cell_type": "code",
   "execution_count": 23,
   "metadata": {
    "executionInfo": {
     "elapsed": 17,
     "status": "ok",
     "timestamp": 1683569775397,
     "user": {
      "displayName": "Carles Navarro",
      "userId": "08891072405822318117"
     },
     "user_tz": -120
    },
    "id": "yHxlSmzaZCtU"
   },
   "outputs": [],
   "source": [
    "cb = ProgressShowingCallback('Just super')"
   ]
  },
  {
   "cell_type": "code",
   "execution_count": 24,
   "metadata": {
    "colab": {
     "base_uri": "https://localhost:8080/"
    },
    "executionInfo": {
     "elapsed": 5593,
     "status": "ok",
     "timestamp": 1683569780974,
     "user": {
      "displayName": "Carles Navarro",
      "userId": "08891072405822318117"
     },
     "user_tz": -120
    },
    "id": "VRmCUF6sZHvg",
    "outputId": "03fb222b-fad5-4bdd-c7f9-a929abf54902"
   },
   "outputs": [
    {
     "name": "stdout",
     "output_type": "stream",
     "text": [
      "Just super! We've finished epoch 0\n",
      "Just super! We've finished epoch 1\n",
      "Just super! We've finished epoch 2\n",
      "Just super! We've finished epoch 3\n",
      "Just super! We've finished epoch 4\n"
     ]
    },
    {
     "data": {
      "text/plain": [
       "30"
      ]
     },
     "execution_count": 24,
     "metadata": {},
     "output_type": "execute_result"
    }
   ],
   "source": [
    "slow_calculation(cb)"
   ]
  },
  {
   "cell_type": "markdown",
   "metadata": {
    "id": "TNxhGi8_ZTn3"
   },
   "source": [
    "## Multiple callback funcs; *args and **kwargs"
   ]
  },
  {
   "cell_type": "code",
   "execution_count": 25,
   "metadata": {
    "executionInfo": {
     "elapsed": 12,
     "status": "ok",
     "timestamp": 1683569780974,
     "user": {
      "displayName": "Carles Navarro",
      "userId": "08891072405822318117"
     },
     "user_tz": -120
    },
    "id": "ROrYnTiVZKzn"
   },
   "outputs": [],
   "source": [
    "def f(*args, **kwargs):\n",
    "  print(f\"args: {args}; kwargs {kwargs}\")"
   ]
  },
  {
   "cell_type": "code",
   "execution_count": 26,
   "metadata": {
    "colab": {
     "base_uri": "https://localhost:8080/"
    },
    "executionInfo": {
     "elapsed": 11,
     "status": "ok",
     "timestamp": 1683569780974,
     "user": {
      "displayName": "Carles Navarro",
      "userId": "08891072405822318117"
     },
     "user_tz": -120
    },
    "id": "aXB7UqFiZgM8",
    "outputId": "dbe490be-aab3-42b7-dd76-c8d090409230"
   },
   "outputs": [
    {
     "name": "stdout",
     "output_type": "stream",
     "text": [
      "args: (3, 'a'); kwargs {'thing1': 'hello'}\n"
     ]
    }
   ],
   "source": [
    "f(3, 'a', thing1='hello')"
   ]
  },
  {
   "cell_type": "code",
   "execution_count": 27,
   "metadata": {
    "executionInfo": {
     "elapsed": 10,
     "status": "ok",
     "timestamp": 1683569780974,
     "user": {
      "displayName": "Carles Navarro",
      "userId": "08891072405822318117"
     },
     "user_tz": -120
    },
    "id": "bbI9FjrkZjNc"
   },
   "outputs": [],
   "source": [
    "def slow_calculation(cb=None):\n",
    "  res = 0\n",
    "  for i in range(5):\n",
    "    if cb:\n",
    "      cb.before_calc(i)\n",
    "    res += i*i\n",
    "    sleep(1)\n",
    "    if cb:\n",
    "      cb.after_calc(i, val=res)\n",
    "  return res"
   ]
  },
  {
   "cell_type": "code",
   "execution_count": 28,
   "metadata": {
    "executionInfo": {
     "elapsed": 11,
     "status": "ok",
     "timestamp": 1683569780975,
     "user": {
      "displayName": "Carles Navarro",
      "userId": "08891072405822318117"
     },
     "user_tz": -120
    },
    "id": "Y21uggX8Z2sz"
   },
   "outputs": [],
   "source": [
    "class PrintStepCallback():\n",
    "  def __init__(self):\n",
    "    pass\n",
    "  def before_calc(self, *args, **kwargs):\n",
    "    print(f\"About to start\")\n",
    "  def after_calc(self, *args, **kwargs):\n",
    "    print(f\"Done step\")"
   ]
  },
  {
   "cell_type": "code",
   "execution_count": 29,
   "metadata": {
    "colab": {
     "base_uri": "https://localhost:8080/"
    },
    "executionInfo": {
     "elapsed": 4306,
     "status": "ok",
     "timestamp": 1683569785270,
     "user": {
      "displayName": "Carles Navarro",
      "userId": "08891072405822318117"
     },
     "user_tz": -120
    },
    "id": "FN0Sr8diaHYu",
    "outputId": "cd308673-ef55-4367-e8e3-848deed9d84c"
   },
   "outputs": [
    {
     "name": "stdout",
     "output_type": "stream",
     "text": [
      "About to start\n",
      "Done step\n",
      "About to start\n",
      "Done step\n",
      "About to start\n",
      "Done step\n",
      "About to start\n",
      "Done step\n",
      "About to start\n",
      "Done step\n"
     ]
    },
    {
     "data": {
      "text/plain": [
       "30"
      ]
     },
     "execution_count": 29,
     "metadata": {},
     "output_type": "execute_result"
    }
   ],
   "source": [
    "slow_calculation(PrintStepCallback())"
   ]
  },
  {
   "cell_type": "code",
   "execution_count": 30,
   "metadata": {
    "executionInfo": {
     "elapsed": 2,
     "status": "ok",
     "timestamp": 1683569785682,
     "user": {
      "displayName": "Carles Navarro",
      "userId": "08891072405822318117"
     },
     "user_tz": -120
    },
    "id": "5Gpr_wdzaJzQ"
   },
   "outputs": [],
   "source": [
    "class PrintStatusCallback():\n",
    "  def __init__(self):\n",
    "    pass\n",
    "  def before_calc(self, epoch, **kwargs):\n",
    "    print(f\"About to start: {epoch}\")\n",
    "  def after_calc(self, epoch, val, **kwargs):\n",
    "    print(f\"After {epoch}: {val}\")"
   ]
  },
  {
   "cell_type": "code",
   "execution_count": 31,
   "metadata": {
    "colab": {
     "base_uri": "https://localhost:8080/"
    },
    "executionInfo": {
     "elapsed": 5014,
     "status": "ok",
     "timestamp": 1683569790694,
     "user": {
      "displayName": "Carles Navarro",
      "userId": "08891072405822318117"
     },
     "user_tz": -120
    },
    "id": "paVJrriKbDf2",
    "outputId": "203650b6-7613-4782-90fc-f2bf607ba59d"
   },
   "outputs": [
    {
     "name": "stdout",
     "output_type": "stream",
     "text": [
      "About to start: 0\n",
      "After 0: 0\n",
      "About to start: 1\n",
      "After 1: 1\n",
      "About to start: 2\n",
      "After 2: 5\n",
      "About to start: 3\n",
      "After 3: 14\n",
      "About to start: 4\n",
      "After 4: 30\n"
     ]
    },
    {
     "data": {
      "text/plain": [
       "30"
      ]
     },
     "execution_count": 31,
     "metadata": {},
     "output_type": "execute_result"
    }
   ],
   "source": [
    "slow_calculation(PrintStatusCallback())"
   ]
  },
  {
   "cell_type": "markdown",
   "metadata": {
    "id": "r4FuXbSblFH5"
   },
   "source": [
    "## __dunder__ things"
   ]
  },
  {
   "cell_type": "code",
   "execution_count": 32,
   "metadata": {
    "executionInfo": {
     "elapsed": 1,
     "status": "ok",
     "timestamp": 1683569888733,
     "user": {
      "displayName": "Carles Navarro",
      "userId": "08891072405822318117"
     },
     "user_tz": -120
    },
    "id": "sZxtgYaUbFRb"
   },
   "outputs": [],
   "source": [
    "class SloppyAdder():\n",
    "  def __init__(self, o):\n",
    "    self.o = o\n",
    "  def __add__(self, b):\n",
    "    return SloppyAdder(self.o + b.o + 0.01)\n",
    "  def __repr__(self):\n",
    "    return str(self.o)"
   ]
  },
  {
   "cell_type": "code",
   "execution_count": 33,
   "metadata": {
    "colab": {
     "base_uri": "https://localhost:8080/"
    },
    "executionInfo": {
     "elapsed": 1051,
     "status": "ok",
     "timestamp": 1683569917838,
     "user": {
      "displayName": "Carles Navarro",
      "userId": "08891072405822318117"
     },
     "user_tz": -120
    },
    "id": "V0ye4zgclclZ",
    "outputId": "ae6592b9-8234-43d4-b3be-97f12ef94f04"
   },
   "outputs": [
    {
     "data": {
      "text/plain": [
       "3.01"
      ]
     },
     "execution_count": 33,
     "metadata": {},
     "output_type": "execute_result"
    }
   ],
   "source": [
    "a = SloppyAdder(1)\n",
    "b = SloppyAdder(2)\n",
    "\n",
    "a + b"
   ]
  },
  {
   "cell_type": "code",
   "execution_count": 35,
   "metadata": {
    "executionInfo": {
     "elapsed": 4,
     "status": "ok",
     "timestamp": 1683569938252,
     "user": {
      "displayName": "Carles Navarro",
      "userId": "08891072405822318117"
     },
     "user_tz": -120
    },
    "id": "AOn7oC5PljR8"
   },
   "outputs": [],
   "source": [
    "class A:\n",
    "  a,b = 1,2"
   ]
  },
  {
   "cell_type": "code",
   "execution_count": 36,
   "metadata": {
    "executionInfo": {
     "elapsed": 3,
     "status": "ok",
     "timestamp": 1683569945106,
     "user": {
      "displayName": "Carles Navarro",
      "userId": "08891072405822318117"
     },
     "user_tz": -120
    },
    "id": "xgYiG6nTll45"
   },
   "outputs": [],
   "source": [
    "a = A()"
   ]
  },
  {
   "cell_type": "code",
   "execution_count": 37,
   "metadata": {
    "colab": {
     "base_uri": "https://localhost:8080/"
    },
    "executionInfo": {
     "elapsed": 356,
     "status": "ok",
     "timestamp": 1683569949400,
     "user": {
      "displayName": "Carles Navarro",
      "userId": "08891072405822318117"
     },
     "user_tz": -120
    },
    "id": "JOwSk1hHlqQJ",
    "outputId": "d894afc7-48f0-42e5-9f6d-b36f923f36cf"
   },
   "outputs": [
    {
     "data": {
      "text/plain": [
       "2"
      ]
     },
     "execution_count": 37,
     "metadata": {},
     "output_type": "execute_result"
    }
   ],
   "source": [
    "a.b"
   ]
  },
  {
   "cell_type": "code",
   "execution_count": 40,
   "metadata": {
    "colab": {
     "base_uri": "https://localhost:8080/"
    },
    "executionInfo": {
     "elapsed": 339,
     "status": "ok",
     "timestamp": 1683569976887,
     "user": {
      "displayName": "Carles Navarro",
      "userId": "08891072405822318117"
     },
     "user_tz": -120
    },
    "id": "Q8Na-tz9lrD5",
    "outputId": "9f677dc0-bcca-4edd-e0e4-164873520d9e"
   },
   "outputs": [
    {
     "data": {
      "text/plain": [
       "1"
      ]
     },
     "execution_count": 40,
     "metadata": {},
     "output_type": "execute_result"
    }
   ],
   "source": [
    "getattr(a, 'b' if  random.random()>0.5 else 'a')"
   ]
  },
  {
   "cell_type": "code",
   "execution_count": 41,
   "metadata": {
    "executionInfo": {
     "elapsed": 992,
     "status": "ok",
     "timestamp": 1683570035016,
     "user": {
      "displayName": "Carles Navarro",
      "userId": "08891072405822318117"
     },
     "user_tz": -120
    },
    "id": "mnOmKvfplwxw"
   },
   "outputs": [],
   "source": [
    "class B:\n",
    "  a,b = 1,2\n",
    "  def __getattr__(self, k):\n",
    "    if k[0] =='_': \n",
    "      raise AttributeError(k)\n",
    "    return f'Hello from {k}'"
   ]
  },
  {
   "cell_type": "code",
   "execution_count": 42,
   "metadata": {
    "executionInfo": {
     "elapsed": 0,
     "status": "ok",
     "timestamp": 1683570041535,
     "user": {
      "displayName": "Carles Navarro",
      "userId": "08891072405822318117"
     },
     "user_tz": -120
    },
    "id": "JgLKUBqCmANI"
   },
   "outputs": [],
   "source": [
    "b = B()"
   ]
  },
  {
   "cell_type": "code",
   "execution_count": 43,
   "metadata": {
    "colab": {
     "base_uri": "https://localhost:8080/"
    },
    "executionInfo": {
     "elapsed": 1,
     "status": "ok",
     "timestamp": 1683570043269,
     "user": {
      "displayName": "Carles Navarro",
      "userId": "08891072405822318117"
     },
     "user_tz": -120
    },
    "id": "u1Z4bL7pmBxN",
    "outputId": "a3c24df2-8b26-4baf-aa41-3a7abaf7fc59"
   },
   "outputs": [
    {
     "data": {
      "text/plain": [
       "1"
      ]
     },
     "execution_count": 43,
     "metadata": {},
     "output_type": "execute_result"
    }
   ],
   "source": [
    "b.a"
   ]
  },
  {
   "cell_type": "code",
   "execution_count": 44,
   "metadata": {
    "colab": {
     "base_uri": "https://localhost:8080/",
     "height": 35
    },
    "executionInfo": {
     "elapsed": 2,
     "status": "ok",
     "timestamp": 1683570053459,
     "user": {
      "displayName": "Carles Navarro",
      "userId": "08891072405822318117"
     },
     "user_tz": -120
    },
    "id": "vUkC3yHqmCKP",
    "outputId": "27e7e1f0-4488-4ee6-c8de-a7cbebb386c7"
   },
   "outputs": [
    {
     "data": {
      "application/vnd.google.colaboratory.intrinsic+json": {
       "type": "string"
      },
      "text/plain": [
       "'Hello from foo'"
      ]
     },
     "execution_count": 44,
     "metadata": {},
     "output_type": "execute_result"
    }
   ],
   "source": [
    "b.foo"
   ]
  },
  {
   "cell_type": "code",
   "execution_count": null,
   "metadata": {
    "id": "J4QUI-JzmEy-"
   },
   "outputs": [],
   "source": []
  }
 ],
 "metadata": {
  "colab": {
   "authorship_tag": "ABX9TyOgck3YsrC6tQWr4aaVRFWD",
   "provenance": []
  },
  "kernelspec": {
   "display_name": "Python 3 (ipykernel)",
   "language": "python",
   "name": "python3"
  },
  "language_info": {
   "codemirror_mode": {
    "name": "ipython",
    "version": 3
   },
   "file_extension": ".py",
   "mimetype": "text/x-python",
   "name": "python",
   "nbconvert_exporter": "python",
   "pygments_lexer": "ipython3",
   "version": "3.10.8"
  },
  "widgets": {
   "application/vnd.jupyter.widget-state+json": {
    "302fe7e72e6e4c4ea709f6664ef9a6f8": {
     "model_module": "@jupyter-widgets/controls",
     "model_module_version": "1.5.0",
     "model_name": "ButtonModel",
     "state": {
      "_dom_classes": [],
      "_model_module": "@jupyter-widgets/controls",
      "_model_module_version": "1.5.0",
      "_model_name": "ButtonModel",
      "_view_count": null,
      "_view_module": "@jupyter-widgets/controls",
      "_view_module_version": "1.5.0",
      "_view_name": "ButtonView",
      "button_style": "",
      "description": "Click me",
      "disabled": false,
      "icon": "",
      "layout": "IPY_MODEL_3354751519f3421f940a161778cfd4df",
      "style": "IPY_MODEL_9ef2b042639d483ba62817090b6d1821",
      "tooltip": ""
     }
    },
    "3354751519f3421f940a161778cfd4df": {
     "model_module": "@jupyter-widgets/base",
     "model_module_version": "1.2.0",
     "model_name": "LayoutModel",
     "state": {
      "_model_module": "@jupyter-widgets/base",
      "_model_module_version": "1.2.0",
      "_model_name": "LayoutModel",
      "_view_count": null,
      "_view_module": "@jupyter-widgets/base",
      "_view_module_version": "1.2.0",
      "_view_name": "LayoutView",
      "align_content": null,
      "align_items": null,
      "align_self": null,
      "border": null,
      "bottom": null,
      "display": null,
      "flex": null,
      "flex_flow": null,
      "grid_area": null,
      "grid_auto_columns": null,
      "grid_auto_flow": null,
      "grid_auto_rows": null,
      "grid_column": null,
      "grid_gap": null,
      "grid_row": null,
      "grid_template_areas": null,
      "grid_template_columns": null,
      "grid_template_rows": null,
      "height": null,
      "justify_content": null,
      "justify_items": null,
      "left": null,
      "margin": null,
      "max_height": null,
      "max_width": null,
      "min_height": null,
      "min_width": null,
      "object_fit": null,
      "object_position": null,
      "order": null,
      "overflow": null,
      "overflow_x": null,
      "overflow_y": null,
      "padding": null,
      "right": null,
      "top": null,
      "visibility": null,
      "width": null
     }
    },
    "9ef2b042639d483ba62817090b6d1821": {
     "model_module": "@jupyter-widgets/controls",
     "model_module_version": "1.5.0",
     "model_name": "ButtonStyleModel",
     "state": {
      "_model_module": "@jupyter-widgets/controls",
      "_model_module_version": "1.5.0",
      "_model_name": "ButtonStyleModel",
      "_view_count": null,
      "_view_module": "@jupyter-widgets/base",
      "_view_module_version": "1.2.0",
      "_view_name": "StyleView",
      "button_color": null,
      "font_weight": ""
     }
    }
   }
  }
 },
 "nbformat": 4,
 "nbformat_minor": 4
}
