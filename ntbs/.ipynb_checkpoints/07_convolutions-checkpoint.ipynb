{
 "cells": [
  {
   "cell_type": "code",
   "execution_count": 1,
   "metadata": {
    "colab": {
     "base_uri": "https://localhost:8080/",
     "height": 365
    },
    "executionInfo": {
     "elapsed": 4149,
     "status": "error",
     "timestamp": 1684052888796,
     "user": {
      "displayName": "Carles Navarro",
      "userId": "08891072405822318117"
     },
     "user_tz": -120
    },
    "id": "I9T5_XWzXd8F",
    "outputId": "527abd30-197b-4f21-8895-f9addf1a34df",
    "tags": []
   },
   "outputs": [],
   "source": [
    "#|export\n",
    "import torch\n",
    "from torch import nn\n",
    "\n",
    "from torch.utils.data import default_collate\n",
    "from typing import Mapping\n",
    "\n",
    "from miniai.training import *\n",
    "from miniai.datasets import *"
   ]
  },
  {
   "cell_type": "code",
   "execution_count": 2,
   "metadata": {
    "executionInfo": {
     "elapsed": 880,
     "status": "ok",
     "timestamp": 1684052901012,
     "user": {
      "displayName": "Carles Navarro",
      "userId": "08891072405822318117"
     },
     "user_tz": -120
    },
    "id": "7P1fizN8X47f"
   },
   "outputs": [],
   "source": [
    "import pickle,gzip,math,os,time,shutil,torch,matplotlib as mpl, numpy as np\n",
    "import pandas as pd,matplotlib.pyplot as plt\n",
    "from pathlib import Path\n",
    "from torch import tensor\n",
    "\n",
    "from torch.utils.data import DataLoader\n",
    "from typing import Mapping"
   ]
  },
  {
   "cell_type": "code",
   "execution_count": 3,
   "metadata": {
    "id": "tnKekpzeX_Rw"
   },
   "outputs": [],
   "source": [
    "mpl.rcParams['image.cmap'] = 'gray'"
   ]
  },
  {
   "cell_type": "code",
   "execution_count": 59,
   "metadata": {
    "tags": []
   },
   "outputs": [],
   "source": [
    "MNIST_URL='https://github.com/mnielsen/neural-networks-and-deep-learning/blob/master/data/mnist.pkl.gz?raw=true'\n",
    "path_data = Path('data')\n",
    "path_data.mkdir(exist_ok=True)\n",
    "path_gz = path_data/'mnist.pkl.gz'\n",
    "\n",
    "from urllib.request import urlretrieve\n",
    "if not path_gz.exists(): urlretrieve(MNIST_URL, path_gz)\n",
    "     "
   ]
  },
  {
   "cell_type": "code",
   "execution_count": 60,
   "metadata": {
    "tags": []
   },
   "outputs": [],
   "source": [
    "path_data = Path('data')\n",
    "path_gz = path_data/'mnist.pkl.gz'\n",
    "with gzip.open(path_gz, 'rb') as f:\n",
    "    ((x_train, y_train), (x_valid, y_valid), _) = pickle.load(f, encoding='latin-1')\n",
    "\n",
    "x_train, y_train, x_valid, y_valid = map(tensor, [x_train, y_train, x_valid, y_valid])"
   ]
  },
  {
   "cell_type": "code",
   "execution_count": 61,
   "metadata": {
    "tags": []
   },
   "outputs": [],
   "source": [
    "x_imgs = x_train.view(-1, 28, 28)\n",
    "xv_imgs = x_valid.view(-1, 28, 28)"
   ]
  },
  {
   "cell_type": "code",
   "execution_count": 11,
   "metadata": {
    "tags": []
   },
   "outputs": [],
   "source": [
    "mpl.rcParams['figure.dpi'] = 30"
   ]
  },
  {
   "cell_type": "code",
   "execution_count": 12,
   "metadata": {
    "tags": []
   },
   "outputs": [
    {
     "data": {
      "image/png": "[encoded data removed]",
      "text/plain": [
       "<Figure size 192x144 with 1 Axes>"
      ]
     },
     "metadata": {},
     "output_type": "display_data"
    }
   ],
   "source": [
    "im3 = x_imgs[7]\n",
    "show_image(im3);"
   ]
  },
  {
   "cell_type": "code",
   "execution_count": 14,
   "metadata": {
    "tags": []
   },
   "outputs": [],
   "source": [
    "top_edge = tensor([[-1,-1,-1],\n",
    "                  [0,0,0],\n",
    "                  [1,1,1]]).float()"
   ]
  },
  {
   "cell_type": "code",
   "execution_count": 15,
   "metadata": {
    "tags": []
   },
   "outputs": [
    {
     "data": {
      "text/plain": [
       "<Axes: >"
      ]
     },
     "execution_count": 15,
     "metadata": {},
     "output_type": "execute_result"
    },
    {
     "data": {
      "image/png": "[encoded data removed]",
      "text/plain": [
       "<Figure size 192x144 with 1 Axes>"
      ]
     },
     "metadata": {},
     "output_type": "display_data"
    }
   ],
   "source": [
    "show_image(top_edge, noframe=False)"
   ]
  },
  {
   "cell_type": "code",
   "execution_count": 16,
   "metadata": {
    "tags": []
   },
   "outputs": [],
   "source": [
    "def apply_kernel(row, col, kernel):\n",
    "    return (im3[row-1:row+2, col-1:col+2] * kernel).sum()"
   ]
  },
  {
   "cell_type": "code",
   "execution_count": 17,
   "metadata": {
    "tags": []
   },
   "outputs": [
    {
     "data": {
      "text/plain": [
       "tensor(2.9727)"
      ]
     },
     "execution_count": 17,
     "metadata": {},
     "output_type": "execute_result"
    }
   ],
   "source": [
    "apply_kernel(4, 15, top_edge)"
   ]
  },
  {
   "cell_type": "code",
   "execution_count": 18,
   "metadata": {
    "tags": []
   },
   "outputs": [
    {
     "data": {
      "text/plain": [
       "<Axes: >"
      ]
     },
     "execution_count": 18,
     "metadata": {},
     "output_type": "execute_result"
    },
    {
     "data": {
      "image/png": "[encoded data removed]",
      "text/plain": [
       "<Figure size 192x144 with 1 Axes>"
      ]
     },
     "metadata": {},
     "output_type": "display_data"
    }
   ],
   "source": [
    "rng = range(1, 27)\n",
    "top_edge3 = tensor([[apply_kernel(i, j, top_edge) for j in rng] for i in rng])\n",
    "show_image(top_edge3)"
   ]
  },
  {
   "cell_type": "code",
   "execution_count": 19,
   "metadata": {
    "tags": []
   },
   "outputs": [],
   "source": [
    "left_edge = tensor([[-1,1,0],\n",
    "                   [-1,1,0],\n",
    "                   [-1,1,0]])"
   ]
  },
  {
   "cell_type": "code",
   "execution_count": 21,
   "metadata": {
    "tags": []
   },
   "outputs": [
    {
     "data": {
      "text/plain": [
       "<Axes: >"
      ]
     },
     "execution_count": 21,
     "metadata": {},
     "output_type": "execute_result"
    },
    {
     "data": {
      "image/png": "[encoded data removed]",
      "text/plain": [
       "<Figure size 192x144 with 1 Axes>"
      ]
     },
     "metadata": {},
     "output_type": "display_data"
    }
   ],
   "source": [
    "left_edge3 = tensor([[apply_kernel(i, j, left_edge) for j in rng] for i in rng])\n",
    "show_image(left_edge3)"
   ]
  },
  {
   "cell_type": "markdown",
   "metadata": {},
   "source": [
    "# Convolutions in Pytorch"
   ]
  },
  {
   "cell_type": "code",
   "execution_count": 41,
   "metadata": {
    "tags": []
   },
   "outputs": [],
   "source": [
    "import torch.nn.functional as F\n",
    "import torch"
   ]
  },
  {
   "cell_type": "code",
   "execution_count": 42,
   "metadata": {
    "tags": []
   },
   "outputs": [],
   "source": [
    "path_data = Path('data')\n",
    "path_gz = path_data/'mnist.pkl.gz'\n",
    "with gzip.open(path_gz, 'rb') as f:\n",
    "    ((x_train, y_train), (x_valid, y_valid), _) = pickle.load(f, encoding='latin-1')\n",
    "\n",
    "x_train, y_train, x_valid, y_valid = map(tensor, [x_train, y_train, x_valid, y_valid])"
   ]
  },
  {
   "cell_type": "code",
   "execution_count": 43,
   "metadata": {
    "tags": []
   },
   "outputs": [],
   "source": [
    "n, m = x_train.shape\n",
    "c = y_train.max() + 1\n",
    "nh = 50"
   ]
  },
  {
   "cell_type": "code",
   "execution_count": 44,
   "metadata": {
    "tags": []
   },
   "outputs": [
    {
     "data": {
      "text/plain": [
       "torch.Size([50000, 784])"
      ]
     },
     "execution_count": 44,
     "metadata": {},
     "output_type": "execute_result"
    }
   ],
   "source": [
    "x_train.shape"
   ]
  },
  {
   "cell_type": "code",
   "execution_count": 35,
   "metadata": {
    "tags": []
   },
   "outputs": [
    {
     "data": {
      "text/plain": [
       "torch.Size([16, 1, 28, 28])"
      ]
     },
     "execution_count": 35,
     "metadata": {},
     "output_type": "execute_result"
    }
   ],
   "source": [
    "#x_imgs = x_train.view(-1, 28, 28)\n",
    "#xv_imgs = x_valid.view(-1, 28, 28)\n",
    "\n",
    "#xb = x_imgs[:16][:,None]\n",
    "#xb.shape"
   ]
  },
  {
   "cell_type": "code",
   "execution_count": 36,
   "metadata": {
    "tags": []
   },
   "outputs": [],
   "source": [
    "broken_cnn = nn.Sequential(\n",
    "    nn.Conv2d(1, 30, kernel_size=3, padding=1),\n",
    "    nn.ReLU(),\n",
    "    nn.Conv2d(30,10, kernel_size=3, padding=1)\n",
    ")"
   ]
  },
  {
   "cell_type": "code",
   "execution_count": 37,
   "metadata": {
    "tags": []
   },
   "outputs": [
    {
     "data": {
      "text/plain": [
       "torch.Size([16, 10, 28, 28])"
      ]
     },
     "execution_count": 37,
     "metadata": {},
     "output_type": "execute_result"
    }
   ],
   "source": [
    "broken_cnn(xb).shape"
   ]
  },
  {
   "cell_type": "code",
   "execution_count": 45,
   "metadata": {
    "tags": []
   },
   "outputs": [],
   "source": [
    "def conv(ni, nf, ks=3, stride=2, act=True):\n",
    "    res = nn.Conv2d(ni, nf, stride=stride, kernel_size=ks, padding=ks//2)\n",
    "    if act:\n",
    "        res = nn.Sequential(res, nn.ReLU())\n",
    "    return res"
   ]
  },
  {
   "cell_type": "code",
   "execution_count": 46,
   "metadata": {
    "tags": []
   },
   "outputs": [],
   "source": [
    "simple_cnn = nn.Sequential(\n",
    "    conv(1,4),\n",
    "    conv(4, 8),\n",
    "    conv(8, 16),\n",
    "    conv(16, 16),\n",
    "    conv(16, 10, act=False),\n",
    "    nn.Flatten(),\n",
    ")"
   ]
  },
  {
   "cell_type": "code",
   "execution_count": 47,
   "metadata": {
    "tags": []
   },
   "outputs": [
    {
     "data": {
      "text/plain": [
       "torch.Size([16, 10])"
      ]
     },
     "execution_count": 47,
     "metadata": {},
     "output_type": "execute_result"
    }
   ],
   "source": [
    "simple_cnn(xb).shape"
   ]
  },
  {
   "cell_type": "code",
   "execution_count": 48,
   "metadata": {
    "tags": []
   },
   "outputs": [],
   "source": [
    "x_imgs = x_train.view(-1,1,28,28)\n",
    "xv_imgs = x_valid.view(-1,1,28,28)\n",
    "train_ds, valid_ds = Dataset(x_imgs, y_train), Dataset(xv_imgs, y_valid)"
   ]
  },
  {
   "cell_type": "code",
   "execution_count": 52,
   "metadata": {
    "tags": []
   },
   "outputs": [],
   "source": [
    "#|export\n",
    "def_device = 'mps' if torch.backends.mps.is_available() else 'cuda' if torch.cuda.is_available() else 'cpu'\n",
    "\n",
    "def to_device(x, device=def_device):\n",
    "    if isinstance(x, torch.Tensor): return x.to(device)\n",
    "    if isinstance(x, Mapping): return {k:v.to(device) for k,v in x.items()}\n",
    "    return type(x)(to_device(o, device) for o in x)\n",
    "\n",
    "def collate_device(b): return to_device(default_collate(b))"
   ]
  },
  {
   "cell_type": "code",
   "execution_count": 50,
   "metadata": {
    "tags": []
   },
   "outputs": [],
   "source": [
    "from torch import optim\n",
    "\n",
    "bs = 256\n",
    "lr = 0.4\n",
    "train_dl, valid_dl = get_dls(train_ds, valid_ds, bs, collate_fn = collate_device)\n",
    "opt = optim.SGD(simple_cnn.parameters(), lr=lr)"
   ]
  },
  {
   "cell_type": "code",
   "execution_count": 24,
   "metadata": {
    "tags": []
   },
   "outputs": [
    {
     "name": "stdout",
     "output_type": "stream",
     "text": [
      "0 1151.0891942977905 53.199999964237215\n",
      "1 1150.986252975464 53.199999964237215\n",
      "2 1151.1826057434082 53.199999964237215\n",
      "3 1151.6929811477662 53.199999964237215\n",
      "4 1151.3490823745728 53.199999964237215\n"
     ]
    }
   ],
   "source": [
    "loss, acc = fit(5, simple_cnn.to(def_device), F.cross_entropy, opt, train_dl, valid_dl)"
   ]
  },
  {
   "cell_type": "code",
   "execution_count": 13,
   "metadata": {
    "collapsed": true,
    "jupyter": {
     "outputs_hidden": true
    },
    "tags": []
   },
   "outputs": [
    {
     "name": "stdout",
     "output_type": "stream",
     "text": [
      "0 41.704692769050595 488.1999997138977\n",
      "1 42.069408655166626 487.6999997615814\n",
      "2 42.28741308450699 487.65000042915347\n",
      "3 41.18766497373581 487.6999997615814\n",
      "4 40.644593834877014 488.2499997615814\n",
      "5 40.28260453939438 487.8999997615814\n",
      "6 41.200709426403044 488.1499997615814\n",
      "7 39.13397951126099 488.6499998092651\n",
      "8 38.149437725543976 488.8999998092651\n",
      "9 41.57075936794281 488.04999980926516\n",
      "10 39.351529002189636 488.8499998092651\n",
      "11 38.69636704921722 488.29999976158143\n",
      "12 39.709214341640475 488.649999666214\n",
      "13 39.603090333938596 488.84999976158144\n",
      "14 38.96851776838302 488.8999997615814\n",
      "15 39.87138329744339 488.59999976158144\n",
      "16 41.79732201099396 488.799999666214\n",
      "17 39.514973890781405 489.4999997615814\n",
      "18 47.92647235393524 487.34999976158144\n",
      "19 40.12763314247131 489.449999666214\n",
      "20 40.67122216224671 489.1999997615814\n",
      "21 40.291160142421724 488.9499997138977\n",
      "22 40.335358834266664 489.34999976158144\n",
      "23 44.53344892263412 488.24999966621397\n",
      "24 42.934490048885344 488.3999997615814\n",
      "25 41.09995927810669 489.3999997615814\n",
      "26 39.5718948841095 489.6499997138977\n",
      "27 40.18658276796341 489.449999666214\n",
      "28 52.918289232254025 486.299999666214\n",
      "29 42.055489885807035 489.449999666214\n",
      "30 42.60891491174698 489.5999997138977\n",
      "31 44.8148476600647 488.3499997138977\n",
      "32 44.815920162200925 488.599999666214\n",
      "33 42.572663164138795 489.549999666214\n",
      "34 40.69155112504959 489.799999666214\n",
      "35 44.156812477111814 489.0999997138977\n",
      "36 43.898356556892395 488.79999976158143\n"
     ]
    },
    {
     "ename": "KeyboardInterrupt",
     "evalue": "",
     "output_type": "error",
     "traceback": [
      "\u001b[0;31m---------------------------------------------------------------------------\u001b[0m",
      "\u001b[0;31mKeyboardInterrupt\u001b[0m                         Traceback (most recent call last)",
      "Cell \u001b[0;32mIn[13], line 2\u001b[0m\n\u001b[1;32m      1\u001b[0m opt \u001b[38;5;241m=\u001b[39m optim\u001b[38;5;241m.\u001b[39mSGD(simple_cnn\u001b[38;5;241m.\u001b[39mparameters(), lr\u001b[38;5;241m=\u001b[39mlr\u001b[38;5;241m/\u001b[39m\u001b[38;5;241m4\u001b[39m)\n\u001b[0;32m----> 2\u001b[0m loss, acc \u001b[38;5;241m=\u001b[39m \u001b[43mfit\u001b[49m\u001b[43m(\u001b[49m\u001b[38;5;241;43m50\u001b[39;49m\u001b[43m,\u001b[49m\u001b[43m \u001b[49m\u001b[43msimple_cnn\u001b[49m\u001b[38;5;241;43m.\u001b[39;49m\u001b[43mto\u001b[49m\u001b[43m(\u001b[49m\u001b[43mdef_device\u001b[49m\u001b[43m)\u001b[49m\u001b[43m,\u001b[49m\u001b[43m \u001b[49m\u001b[43mF\u001b[49m\u001b[38;5;241;43m.\u001b[39;49m\u001b[43mcross_entropy\u001b[49m\u001b[43m,\u001b[49m\u001b[43m \u001b[49m\u001b[43mopt\u001b[49m\u001b[43m,\u001b[49m\u001b[43m \u001b[49m\u001b[43mtrain_dl\u001b[49m\u001b[43m,\u001b[49m\u001b[43m \u001b[49m\u001b[43mvalid_dl\u001b[49m\u001b[43m)\u001b[49m\n",
      "File \u001b[0;32m~/Documents/for_fun/mini-diffusers/miniai/training.py:31\u001b[0m, in \u001b[0;36mfit\u001b[0;34m(epochs, model, loss_func, opt, train_dl, val_dl)\u001b[0m\n\u001b[1;32m     29\u001b[0m \u001b[38;5;28;01mfor\u001b[39;00m xb,yb \u001b[38;5;129;01min\u001b[39;00m train_dl:\n\u001b[1;32m     30\u001b[0m     loss \u001b[38;5;241m=\u001b[39m loss_func(model(xb), yb)\n\u001b[0;32m---> 31\u001b[0m     \u001b[43mloss\u001b[49m\u001b[38;5;241;43m.\u001b[39;49m\u001b[43mbackward\u001b[49m\u001b[43m(\u001b[49m\u001b[43m)\u001b[49m\n\u001b[1;32m     32\u001b[0m     opt\u001b[38;5;241m.\u001b[39mstep()\n\u001b[1;32m     33\u001b[0m     opt\u001b[38;5;241m.\u001b[39mzero_grad()\n",
      "File \u001b[0;32m~/mambaforge/envs/miniai/lib/python3.11/site-packages/torch/_tensor.py:487\u001b[0m, in \u001b[0;36mTensor.backward\u001b[0;34m(self, gradient, retain_graph, create_graph, inputs)\u001b[0m\n\u001b[1;32m    477\u001b[0m \u001b[38;5;28;01mif\u001b[39;00m has_torch_function_unary(\u001b[38;5;28mself\u001b[39m):\n\u001b[1;32m    478\u001b[0m     \u001b[38;5;28;01mreturn\u001b[39;00m handle_torch_function(\n\u001b[1;32m    479\u001b[0m         Tensor\u001b[38;5;241m.\u001b[39mbackward,\n\u001b[1;32m    480\u001b[0m         (\u001b[38;5;28mself\u001b[39m,),\n\u001b[0;32m   (...)\u001b[0m\n\u001b[1;32m    485\u001b[0m         inputs\u001b[38;5;241m=\u001b[39minputs,\n\u001b[1;32m    486\u001b[0m     )\n\u001b[0;32m--> 487\u001b[0m \u001b[43mtorch\u001b[49m\u001b[38;5;241;43m.\u001b[39;49m\u001b[43mautograd\u001b[49m\u001b[38;5;241;43m.\u001b[39;49m\u001b[43mbackward\u001b[49m\u001b[43m(\u001b[49m\n\u001b[1;32m    488\u001b[0m \u001b[43m    \u001b[49m\u001b[38;5;28;43mself\u001b[39;49m\u001b[43m,\u001b[49m\u001b[43m \u001b[49m\u001b[43mgradient\u001b[49m\u001b[43m,\u001b[49m\u001b[43m \u001b[49m\u001b[43mretain_graph\u001b[49m\u001b[43m,\u001b[49m\u001b[43m \u001b[49m\u001b[43mcreate_graph\u001b[49m\u001b[43m,\u001b[49m\u001b[43m \u001b[49m\u001b[43minputs\u001b[49m\u001b[38;5;241;43m=\u001b[39;49m\u001b[43minputs\u001b[49m\n\u001b[1;32m    489\u001b[0m \u001b[43m\u001b[49m\u001b[43m)\u001b[49m\n",
      "File \u001b[0;32m~/mambaforge/envs/miniai/lib/python3.11/site-packages/torch/autograd/__init__.py:200\u001b[0m, in \u001b[0;36mbackward\u001b[0;34m(tensors, grad_tensors, retain_graph, create_graph, grad_variables, inputs)\u001b[0m\n\u001b[1;32m    195\u001b[0m     retain_graph \u001b[38;5;241m=\u001b[39m create_graph\n\u001b[1;32m    197\u001b[0m \u001b[38;5;66;03m# The reason we repeat same the comment below is that\u001b[39;00m\n\u001b[1;32m    198\u001b[0m \u001b[38;5;66;03m# some Python versions print out the first line of a multi-line function\u001b[39;00m\n\u001b[1;32m    199\u001b[0m \u001b[38;5;66;03m# calls in the traceback and some print out the last line\u001b[39;00m\n\u001b[0;32m--> 200\u001b[0m \u001b[43mVariable\u001b[49m\u001b[38;5;241;43m.\u001b[39;49m\u001b[43m_execution_engine\u001b[49m\u001b[38;5;241;43m.\u001b[39;49m\u001b[43mrun_backward\u001b[49m\u001b[43m(\u001b[49m\u001b[43m  \u001b[49m\u001b[38;5;66;43;03m# Calls into the C++ engine to run the backward pass\u001b[39;49;00m\n\u001b[1;32m    201\u001b[0m \u001b[43m    \u001b[49m\u001b[43mtensors\u001b[49m\u001b[43m,\u001b[49m\u001b[43m \u001b[49m\u001b[43mgrad_tensors_\u001b[49m\u001b[43m,\u001b[49m\u001b[43m \u001b[49m\u001b[43mretain_graph\u001b[49m\u001b[43m,\u001b[49m\u001b[43m \u001b[49m\u001b[43mcreate_graph\u001b[49m\u001b[43m,\u001b[49m\u001b[43m \u001b[49m\u001b[43minputs\u001b[49m\u001b[43m,\u001b[49m\n\u001b[1;32m    202\u001b[0m \u001b[43m    \u001b[49m\u001b[43mallow_unreachable\u001b[49m\u001b[38;5;241;43m=\u001b[39;49m\u001b[38;5;28;43;01mTrue\u001b[39;49;00m\u001b[43m,\u001b[49m\u001b[43m \u001b[49m\u001b[43maccumulate_grad\u001b[49m\u001b[38;5;241;43m=\u001b[39;49m\u001b[38;5;28;43;01mTrue\u001b[39;49;00m\u001b[43m)\u001b[49m\n",
      "\u001b[0;31mKeyboardInterrupt\u001b[0m: "
     ]
    }
   ],
   "source": [
    "opt = optim.SGD(simple_cnn.parameters(), lr=lr/4)\n",
    "loss, acc = fit(50, simple_cnn.to(def_device), F.cross_entropy, opt, train_dl, valid_dl)"
   ]
  },
  {
   "cell_type": "code",
   "execution_count": 14,
   "metadata": {
    "tags": []
   },
   "outputs": [
    {
     "data": {
      "text/plain": [
       "tensor(5274)"
      ]
     },
     "execution_count": 14,
     "metadata": {},
     "output_type": "execute_result"
    }
   ],
   "source": [
    "torch.tensor([np.product(o.shape) for o in simple_cnn.parameters()]).sum()"
   ]
  },
  {
   "cell_type": "code",
   "execution_count": 57,
   "metadata": {
    "tags": []
   },
   "outputs": [],
   "source": [
    "def accuracy(out, yb):\n",
    "    return (torch.argmax(out, dim=1)==yb).float().mean()\n"
   ]
  },
  {
   "cell_type": "code",
   "execution_count": 63,
   "metadata": {
    "collapsed": true,
    "jupyter": {
     "outputs_hidden": true
    },
    "tags": []
   },
   "outputs": [
    {
     "name": "stdout",
     "output_type": "stream",
     "text": [
      "0.10400550067424774\n",
      "0.966796875\n",
      "0.0871109813451767\n",
      "0.974609375\n",
      "0.05049184709787369\n",
      "0.9921875\n",
      "0.05409570038318634\n",
      "0.990234375\n",
      "0.06372679769992828\n",
      "0.98046875\n",
      "0.16968320310115814\n",
      "0.96484375\n",
      "0.061455387622117996\n",
      "0.978515625\n",
      "0.09697269648313522\n",
      "0.9765625\n",
      "0.04981020838022232\n",
      "0.990234375\n",
      "0.09386726468801498\n",
      "0.974609375\n",
      "0.06414461880922318\n",
      "0.986328125\n",
      "0.08840262144804001\n",
      "0.984375\n",
      "0.09888767451047897\n",
      "0.9765625\n",
      "0.06142711639404297\n",
      "0.982421875\n",
      "0.09603580832481384\n",
      "0.9765625\n",
      "0.06624297052621841\n",
      "0.978515625\n",
      "0.02425673045217991\n",
      "0.990234375\n",
      "0.02145705185830593\n",
      "0.994140625\n",
      "0.12421895563602448\n",
      "0.974609375\n",
      "0.1893261820077896\n",
      "0.9742646813392639\n",
      "0 0.0 0.0\n",
      "0.0814371332526207\n",
      "0.974609375\n",
      "0.06969773769378662\n",
      "0.98046875\n",
      "0.0510392002761364\n",
      "0.9921875\n",
      "0.047824643552303314\n",
      "0.984375\n",
      "0.05758408084511757\n",
      "0.978515625\n",
      "0.16423094272613525\n",
      "0.95703125\n",
      "0.03791488707065582\n",
      "0.986328125\n",
      "0.0834210142493248\n",
      "0.98046875\n",
      "0.05304357409477234\n",
      "0.984375\n",
      "0.1070127859711647\n",
      "0.970703125\n",
      "0.04915563017129898\n",
      "0.98046875\n",
      "0.09590226411819458\n",
      "0.978515625\n",
      "0.11106111109256744\n",
      "0.97265625\n",
      "0.05077025294303894\n",
      "0.986328125\n",
      "0.05903886258602142\n",
      "0.982421875\n",
      "0.06719879060983658\n",
      "0.974609375\n",
      "0.016862766817212105\n",
      "0.9921875\n",
      "0.02423187531530857\n",
      "0.98828125\n",
      "0.12138789892196655\n",
      "0.9765625\n",
      "0.1654278188943863\n",
      "0.9816176295280457\n",
      "1 0.0 0.0\n",
      "0.1079133003950119\n",
      "0.97265625\n",
      "0.15779715776443481\n",
      "0.95703125\n",
      "0.05673383176326752\n",
      "0.984375\n",
      "0.07218889147043228\n",
      "0.97265625\n",
      "0.1058545634150505\n",
      "0.970703125\n",
      "0.18695186078548431\n",
      "0.962890625\n",
      "0.09948094934225082\n",
      "0.97265625\n",
      "0.10401254892349243\n",
      "0.966796875\n",
      "0.08598042279481888\n",
      "0.974609375\n",
      "0.1106250062584877\n",
      "0.966796875\n",
      "0.08229825645685196\n",
      "0.974609375\n",
      "0.08011528104543686\n",
      "0.98046875\n",
      "0.12518586218357086\n",
      "0.970703125\n",
      "0.06705491989850998\n",
      "0.978515625\n",
      "0.10195944458246231\n",
      "0.970703125\n",
      "0.1220131665468216\n",
      "0.96484375\n",
      "0.025707049295306206\n",
      "0.9921875\n",
      "0.027432886883616447\n",
      "0.98828125\n",
      "0.11016994714736938\n",
      "0.982421875\n",
      "0.14216716587543488\n",
      "0.9852941036224365\n",
      "2 0.0 0.0\n",
      "0.08485971391201019\n",
      "0.97265625\n",
      "0.09408653527498245\n",
      "0.9765625\n",
      "0.04154432564973831\n",
      "0.990234375\n",
      "0.05433693900704384\n",
      "0.986328125\n",
      "0.07242965698242188\n",
      "0.9765625\n",
      "0.18448778986930847\n",
      "0.953125\n",
      "0.04715457186102867\n",
      "0.984375\n",
      "0.10106222331523895\n",
      "0.970703125\n",
      "0.0646112859249115\n",
      "0.982421875\n",
      "0.13911399245262146\n",
      "0.96484375\n",
      "0.08222613483667374\n",
      "0.978515625\n",
      "0.06185859441757202\n",
      "0.98828125\n",
      "0.1087493896484375\n",
      "0.974609375\n",
      "0.04396049678325653\n",
      "0.986328125\n",
      "0.07051713764667511\n",
      "0.982421875\n",
      "0.07730582356452942\n",
      "0.974609375\n",
      "0.010386433452367783\n",
      "0.99609375\n",
      "0.018382642418146133\n",
      "0.99609375\n",
      "0.16387592256069183\n",
      "0.9765625\n",
      "0.17665983736515045\n",
      "0.9779411554336548\n",
      "3 0.0 0.0\n",
      "0.08316277712583542\n",
      "0.98046875\n",
      "0.09580512344837189\n",
      "0.97265625\n",
      "0.050049714744091034\n",
      "0.984375\n",
      "0.038524042814970016\n",
      "0.986328125\n",
      "0.05912993848323822\n",
      "0.98046875\n",
      "0.17015710473060608\n",
      "0.95703125\n",
      "0.06655749678611755\n",
      "0.98046875\n",
      "0.08085808157920837\n",
      "0.982421875\n",
      "0.0596407949924469\n",
      "0.984375\n",
      "0.11020897328853607\n",
      "0.974609375\n",
      "0.0824735090136528\n",
      "0.978515625\n",
      "0.0987493246793747\n",
      "0.982421875\n",
      "0.10601405799388885\n",
      "0.974609375\n",
      "0.053376536816358566\n",
      "0.986328125\n",
      "0.09786327928304672\n",
      "0.9765625\n",
      "0.08019065856933594\n",
      "0.974609375\n",
      "0.022822046652436256\n",
      "0.9921875\n",
      "0.021761460229754448\n",
      "0.994140625\n",
      "0.12491425126791\n",
      "0.98046875\n",
      "0.17945952713489532\n",
      "0.9779411554336548\n",
      "4 0.0 0.0\n"
     ]
    }
   ],
   "source": [
    "epochs = 5\n",
    "simple_cnn = simple_cnn.to(def_device)\n",
    "\n",
    "for epoch in range(epochs):\n",
    "    simple_cnn.train()\n",
    "    for xb,yb in train_dl:\n",
    "        loss = F.cross_entropy(simple_cnn(xb), yb)\n",
    "        loss.backward()\n",
    "        opt.step()\n",
    "        opt.zero_grad()\n",
    "        \n",
    "    simple_cnn.eval()\n",
    "    with torch.no_grad():\n",
    "        tot_loss, tot_acc, count = 0.,0.,0\n",
    "        for xb,yb in valid_dl:\n",
    "            pred = simple_cnn(xb)\n",
    "            n = len(xb)\n",
    "            tot_loss += F.cross_entropy(pred, yb).item()*n\n",
    "            tot_acc  += accuracy(pred,yb).item()*n\n",
    "\n",
    "            count += 1 \n",
    "                        \n",
    "    print(epoch, tot_loss/count, tot_acc/count)\n",
    "\n",
    "        #loss = loss_func(model(xb), yb)\n",
    "        #loss.backward()\n",
    "        #opt.step()\n",
    "        #opt.zero_grad()\n",
    "\n",
    "    simple_cnn.eval()\n"
   ]
  },
  {
   "cell_type": "code",
   "execution_count": 26,
   "metadata": {
    "tags": []
   },
   "outputs": [],
   "source": [
    "loss = F.cross_entropy(simple_cnn(xb), yb)"
   ]
  },
  {
   "cell_type": "code",
   "execution_count": 27,
   "metadata": {
    "tags": []
   },
   "outputs": [
    {
     "data": {
      "text/plain": [
       "tensor(2.3029, device='mps:0', grad_fn=<NllLossBackward0>)"
      ]
     },
     "execution_count": 27,
     "metadata": {},
     "output_type": "execute_result"
    }
   ],
   "source": [
    "loss"
   ]
  },
  {
   "cell_type": "code",
   "execution_count": null,
   "metadata": {},
   "outputs": [],
   "source": []
  }
 ],
 "metadata": {
  "colab": {
   "authorship_tag": "ABX9TyMlYh0RjzaQfCmvKszHLsSx",
   "provenance": []
  },
  "kernelspec": {
   "display_name": "miniai",
   "language": "python",
   "name": "miniai"
  },
  "language_info": {
   "codemirror_mode": {
    "name": "ipython",
    "version": 3
   },
   "file_extension": ".py",
   "mimetype": "text/x-python",
   "name": "python",
   "nbconvert_exporter": "python",
   "pygments_lexer": "ipython3",
   "version": "3.11.3"
  }
 },
 "nbformat": 4,
 "nbformat_minor": 4
}
