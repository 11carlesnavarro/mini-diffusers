{
 "cells": [
  {
   "cell_type": "code",
   "execution_count": 49,
   "id": "d8cdcd67-3b2e-4d3e-b4a4-c1d272d50337",
   "metadata": {
    "tags": []
   },
   "outputs": [],
   "source": [
    "import pickle,gzip,math,os,time,shutil,torch,random,logging\n",
    "import fastcore.all as fc,matplotlib as mpl,numpy as np,matplotlib.pyplot as plt\n",
    "from collections.abc import Mapping\n",
    "from pathlib import Path\n",
    "from operator import attrgetter,itemgetter\n",
    "from functools import partial\n",
    "from copy import copy\n",
    "from contextlib import contextmanager\n",
    "from tqdm import tqdm\n",
    "\n",
    "from fastcore.foundation import L\n",
    "import torchvision.transforms.functional as TF,torch.nn.functional as F\n",
    "from torch import tensor,nn,optim\n",
    "from torch.utils.data import DataLoader,default_collate\n",
    "from torch.nn import init\n",
    "from torch.optim import lr_scheduler\n",
    "from torcheval.metrics import MulticlassAccuracy\n",
    "from datasets import load_dataset,load_dataset_builder\n"
   ]
  },
  {
   "cell_type": "code",
   "execution_count": 26,
   "id": "6e7168df-a915-42c7-b7cd-eeb18ea01eec",
   "metadata": {
    "tags": []
   },
   "outputs": [],
   "source": [
    "from miniai.utils import set_seed, clean_ipython_hist, clean_tb, clean_mem\n",
    "from miniai.datasets import DataLoaders, inplace\n",
    "from miniai.conv import conv\n",
    "\n",
    "from miniai.learner import MomentumLearner, DeviceCB, MetricsCB, ProgressCB, LRFinderCB, TrainLearner, TrainCB, Learner\n",
    "from miniai.activations import ActivationStats\n",
    "from miniai.init import GeneralRelu, init_weights, get_model\n",
    "from miniai.sgd import RecorderCB, BatchSchedCB\n",
    "\n",
    "from miniai.resnet import act_gr, ResBlock"
   ]
  },
  {
   "cell_type": "code",
   "execution_count": 27,
   "id": "d3059e89-a448-47ce-a98f-e405b1d2bec4",
   "metadata": {
    "tags": []
   },
   "outputs": [],
   "source": [
    "mpl.rcParams['image.cmap'] = 'gray'\n",
    "logging.disable(logging.WARNING)"
   ]
  },
  {
   "cell_type": "markdown",
   "id": "a19505e0-14c2-4813-8997-e505b16adcf0",
   "metadata": {},
   "source": [
    "# Load the dataset"
   ]
  },
  {
   "cell_type": "code",
   "execution_count": 28,
   "id": "a33fbb45-9160-4246-b833-78985ef6a621",
   "metadata": {
    "tags": []
   },
   "outputs": [],
   "source": [
    "x,y = 'image','label'\n",
    "name = \"fashion_mnist\"\n",
    "dsd = load_dataset(name)"
   ]
  },
  {
   "cell_type": "code",
   "execution_count": 29,
   "id": "c7fa668b-72b0-4ad1-b4f9-2ed65d40415d",
   "metadata": {
    "tags": []
   },
   "outputs": [],
   "source": [
    "@inplace\n",
    "def transformi(b): b[x] = [TF.resize(TF.to_tensor(o), (32,32)) for o in b[x]]"
   ]
  },
  {
   "cell_type": "code",
   "execution_count": 30,
   "id": "f1530596-11e9-4f91-bafc-122204c130b6",
   "metadata": {
    "tags": []
   },
   "outputs": [
    {
     "data": {
      "text/plain": [
       "(torch.Size([128, 1, 32, 32]), tensor([5, 7, 4, 7, 3, 8, 9, 5, 3, 1]))"
      ]
     },
     "execution_count": 30,
     "metadata": {},
     "output_type": "execute_result"
    }
   ],
   "source": [
    "set_seed(42)\n",
    "bs = 128\n",
    "tds = dsd.with_transform(transformi)\n",
    "dls = DataLoaders.from_dd(tds, bs, num_workers=0)\n",
    "dt = dls.train\n",
    "xb,yb = next(iter(dt))\n",
    "xb.shape,yb[:10]"
   ]
  },
  {
   "cell_type": "code",
   "execution_count": 31,
   "id": "bcd7f7da-79d4-4584-9675-a3e2004b1bab",
   "metadata": {
    "tags": []
   },
   "outputs": [],
   "source": [
    "from diffusers import UNet2DModel"
   ]
  },
  {
   "cell_type": "code",
   "execution_count": 32,
   "id": "0d0e350f-227c-45b9-a8a9-5ce2a96d9c7a",
   "metadata": {
    "tags": []
   },
   "outputs": [],
   "source": [
    "model = UNet2DModel(in_channels=1, out_channels=1, block_out_channels=(32, 64, 128, 128))"
   ]
  },
  {
   "cell_type": "code",
   "execution_count": 57,
   "id": "60386fda-2210-4aba-8cbf-e47352812d75",
   "metadata": {
    "tags": []
   },
   "outputs": [],
   "source": [
    "class DDPMCB(TrainCB):\n",
    "    order = DeviceCB.order+1\n",
    "    def __init__(self, n_steps, beta_min, beta_max):\n",
    "        super().__init__()\n",
    "        self.n_steps = n_steps\n",
    "        self.beta_min = beta_min\n",
    "        self.beta_max = beta_max\n",
    "        # variance schedule, linearly increased with timestep\n",
    "        self.beta = torch.linspace(self.beta_min, self.beta_max, self.n_steps)\n",
    "        self.alpha = 1. - self.beta\n",
    "        self.alpha_bar = torch.cumprod(self.alpha, dim=0)\n",
    "        self.sigma = self.beta.sqrt()\n",
    "    \n",
    "    def predict(self, learn): \n",
    "        learn.preds = learn.model(*learn.batch[0]).sample\n",
    "     \n",
    "    def before_batch(self, learn):\n",
    "        device = learn.batch[0].device\n",
    "        eps = torch.randn(learn.batch[0].shape, device=device)  # noise, x_T\n",
    "        x0 = learn.batch[0] # original images, x_0\n",
    "        self.alpha_bar = self.alpha_bar.to(device)\n",
    "        n = x0.shape[0]\n",
    "        \n",
    "        # select random timesteps\n",
    "        t = torch.randint(0, self.n_steps, (n,), device=device, dtype=torch.long)\n",
    "        alpha_bar_t = self.alpha_bar[t].reshape(-1, 1, 1, 1).to(device)\n",
    "        xt = alpha_bar_t.sqrt()*x0 + (1-alpha_bar_t).sqrt()*eps #noisify the image\n",
    "        \n",
    "        # input to our model is noisy image and timestep, ground truth is the noise \n",
    "        learn.batch = ((xt, t), eps)\n",
    "    \n",
    "    @torch.no_grad()\n",
    "    def sample(self, model, sz):\n",
    "        device = next(model.parameters()).device\n",
    "        x_t = torch.randn(sz, device=device)\n",
    "        preds = []\n",
    "        for t in tqdm(reversed(range(self.n_steps))):\n",
    "            t_batch = torch.full((x_t.shape[0],), t, device=device, dtype=torch.long)\n",
    "            z = (torch.randn(x_t.shape) if t > 0 else torch.zeros(x_t.shape)).to(device)\n",
    "            alpha_bar_t1 = self.alpha_bar[t-1]  if t > 0 else torch.tensor(1)\n",
    "            beta_bar_t = 1 - self.alpha_bar[t]\n",
    "            beta_bar_t1 = 1 - alpha_bar_t1\n",
    "            noise_pred = learn.model(x_t, t_batch).sample\n",
    "            \n",
    "            x_0_hat = ((x_t - beta_bar_t.sqrt() * noise_pred)/self.alpha_bar[t].sqrt()).clamp(-1,1)\n",
    "            x0_coeff = alpha_bar_t1.sqrt()*(1-self.alpha[t])/beta_bar_t\n",
    "            xt_coeff = self.alpha[t].sqrt()*beta_bar_t1/beta_bar_t\n",
    "            x_t = x_0_hat*x0_coeff + x_t*xt_coeff + self.sigma[t]*z\n",
    "            preds.append(x_t.cpu())\n",
    "        return preds"
   ]
  },
  {
   "cell_type": "code",
   "execution_count": 60,
   "id": "f5c9aa83-c0fd-4a51-a946-4d1d4343db48",
   "metadata": {
    "tags": []
   },
   "outputs": [],
   "source": [
    "lr = 4e-3\n",
    "epochs = 5\n",
    "tmax = epochs * len(dls.train)\n",
    "sched = partial(lr_scheduler.OneCycleLR, max_lr=lr, total_steps=tmax)\n",
    "ddpm_cb = DDPMCB(n_steps=1000, beta_min=0.0001, beta_max=0.02)\n",
    "cbs = [ddpm_cb, DeviceCB(), ProgressCB(plot=True), MetricsCB(), BatchSchedCB(sched)]\n",
    "learn = Learner(model, dls, nn.MSELoss(), lr=lr, cbs=cbs, opt_func=optim.Adam)"
   ]
  },
  {
   "cell_type": "code",
   "execution_count": 44,
   "id": "be4aa54b-462c-4fc7-9e33-7dc5f16ea19c",
   "metadata": {
    "tags": []
   },
   "outputs": [
    {
     "data": {
      "text/html": [
       "\n",
       "<style>\n",
       "    /* Turns off some styling */\n",
       "    progress {\n",
       "        /* gets rid of default border in Firefox and Opera. */\n",
       "        border: none;\n",
       "        /* Needs to be in here for Safari polyfill so background images work as expected. */\n",
       "        background-size: auto;\n",
       "    }\n",
       "    progress:not([value]), progress:not([value])::-webkit-progress-bar {\n",
       "        background: repeating-linear-gradient(45deg, #7e7e7e, #7e7e7e 10px, #5c5c5c 10px, #5c5c5c 20px);\n",
       "    }\n",
       "    .progress-bar-interrupted, .progress-bar-interrupted::-webkit-progress-bar {\n",
       "        background: #F44336;\n",
       "    }\n",
       "</style>\n"
      ],
      "text/plain": [
       "<IPython.core.display.HTML object>"
      ]
     },
     "metadata": {},
     "output_type": "display_data"
    },
    {
     "data": {
      "text/html": [
       "<table border=\"1\" class=\"dataframe\">\n",
       "  <thead>\n",
       "    <tr style=\"text-align: left;\">\n",
       "      <th>loss</th>\n",
       "      <th>epoch</th>\n",
       "      <th>train</th>\n",
       "    </tr>\n",
       "  </thead>\n",
       "  <tbody>\n",
       "    <tr>\n",
       "      <td>0.055</td>\n",
       "      <td>0</td>\n",
       "      <td>train</td>\n",
       "    </tr>\n",
       "    <tr>\n",
       "      <td>0.024</td>\n",
       "      <td>0</td>\n",
       "      <td>eval</td>\n",
       "    </tr>\n",
       "    <tr>\n",
       "      <td>0.022</td>\n",
       "      <td>1</td>\n",
       "      <td>train</td>\n",
       "    </tr>\n",
       "    <tr>\n",
       "      <td>0.020</td>\n",
       "      <td>1</td>\n",
       "      <td>eval</td>\n",
       "    </tr>\n",
       "    <tr>\n",
       "      <td>0.018</td>\n",
       "      <td>2</td>\n",
       "      <td>train</td>\n",
       "    </tr>\n",
       "    <tr>\n",
       "      <td>0.017</td>\n",
       "      <td>2</td>\n",
       "      <td>eval</td>\n",
       "    </tr>\n",
       "    <tr>\n",
       "      <td>0.017</td>\n",
       "      <td>3</td>\n",
       "      <td>train</td>\n",
       "    </tr>\n",
       "    <tr>\n",
       "      <td>0.016</td>\n",
       "      <td>3</td>\n",
       "      <td>eval</td>\n",
       "    </tr>\n",
       "    <tr>\n",
       "      <td>0.016</td>\n",
       "      <td>4</td>\n",
       "      <td>train</td>\n",
       "    </tr>\n",
       "    <tr>\n",
       "      <td>0.015</td>\n",
       "      <td>4</td>\n",
       "      <td>eval</td>\n",
       "    </tr>\n",
       "  </tbody>\n",
       "</table>"
      ],
      "text/plain": [
       "<IPython.core.display.HTML object>"
      ]
     },
     "metadata": {},
     "output_type": "display_data"
    },
    {
     "data": {
      "image/png": "[encoded data removed]",
      "text/plain": [
       "<Figure size 600x400 with 1 Axes>"
      ]
     },
     "metadata": {},
     "output_type": "display_data"
    }
   ],
   "source": [
    "learn.fit(epochs)"
   ]
  },
  {
   "cell_type": "code",
   "execution_count": 45,
   "id": "8cc6d097-b3b8-4d2f-923b-d6b94d7e8d4f",
   "metadata": {
    "tags": []
   },
   "outputs": [],
   "source": [
    "mdl_path = Path('models')\n",
    "mdl_path.mkdir(exist_ok=True)"
   ]
  },
  {
   "cell_type": "code",
   "execution_count": 46,
   "id": "75a5a659-0562-44e5-9f05-f229a94431fb",
   "metadata": {
    "tags": []
   },
   "outputs": [],
   "source": [
    "torch.save(learn.model, mdl_path/'fashion_ddpm.pkl')"
   ]
  },
  {
   "cell_type": "code",
   "execution_count": 61,
   "id": "7e072a98-f1b7-434b-875b-3329827a05ae",
   "metadata": {
    "tags": []
   },
   "outputs": [],
   "source": [
    "learn.model = torch.load(mdl_path/'fashion_ddpm.pkl')"
   ]
  },
  {
   "cell_type": "markdown",
   "id": "f469793a-6dba-4de1-aab2-2b258522959f",
   "metadata": {},
   "source": [
    "# Inference"
   ]
  },
  {
   "cell_type": "code",
   "execution_count": 62,
   "id": "b3026851-ea6e-48d7-8c3b-afdaee1fa8ad",
   "metadata": {
    "tags": []
   },
   "outputs": [
    {
     "name": "stderr",
     "output_type": "stream",
     "text": [
      "1000it [01:34, 10.55it/s]\n"
     ]
    },
    {
     "data": {
      "text/plain": [
       "1000"
      ]
     },
     "execution_count": 62,
     "metadata": {},
     "output_type": "execute_result"
    }
   ],
   "source": [
    "set_seed(42)\n",
    "samples = ddpm_cb.sample(learn.model, (16, 1, 32, 32))\n",
    "len(samples)"
   ]
  },
  {
   "cell_type": "code",
   "execution_count": 67,
   "id": "fb441520-5287-407f-9f93-e645306b9d18",
   "metadata": {
    "tags": []
   },
   "outputs": [],
   "source": [
    "from miniai.plotting import show_images, show_image"
   ]
  },
  {
   "cell_type": "code",
   "execution_count": 68,
   "id": "07c84021-b423-4c96-b1d0-7617f7291d8c",
   "metadata": {
    "tags": []
   },
   "outputs": [],
   "source": [
    "show_images(-samples[-1], figsize=(5,5))"
   ]
  },
  {
   "cell_type": "code",
   "execution_count": 69,
   "id": "f3ec44b1-1d3d-4104-997c-0d045cd8401c",
   "metadata": {
    "collapsed": true,
    "jupyter": {
     "outputs_hidden": true
    },
    "tags": []
   },
   "outputs": [
    {
     "name": "stdout",
     "output_type": "stream",
     "text": [
      "Using matplotlib backend: MacOSX\n"
     ]
    },
    {
     "ename": "RuntimeError",
     "evalue": "Requested MovieWriter (ffmpeg) not available",
     "output_type": "error",
     "traceback": [
      "\u001b[0;31m---------------------------------------------------------------------------\u001b[0m",
      "\u001b[0;31mRuntimeError\u001b[0m                              Traceback (most recent call last)",
      "Cell \u001b[0;32mIn[69], line 11\u001b[0m\n\u001b[1;32m      8\u001b[0m ims \u001b[38;5;241m=\u001b[39m r\u001b[38;5;241m.\u001b[39mmap(_show_i)\n\u001b[1;32m     10\u001b[0m animate \u001b[38;5;241m=\u001b[39m animation\u001b[38;5;241m.\u001b[39mArtistAnimation(fig, ims, interval\u001b[38;5;241m=\u001b[39m\u001b[38;5;241m50\u001b[39m, blit\u001b[38;5;241m=\u001b[39m\u001b[38;5;28;01mTrue\u001b[39;00m, repeat_delay\u001b[38;5;241m=\u001b[39m\u001b[38;5;241m3000\u001b[39m)\n\u001b[0;32m---> 11\u001b[0m display(HTML(\u001b[43manimate\u001b[49m\u001b[38;5;241;43m.\u001b[39;49m\u001b[43mto_html5_video\u001b[49m\u001b[43m(\u001b[49m\u001b[43m)\u001b[49m))\n",
      "File \u001b[0;32m~/mambaforge/envs/miniai/lib/python3.11/site-packages/matplotlib/animation.py:1284\u001b[0m, in \u001b[0;36mAnimation.to_html5_video\u001b[0;34m(self, embed_limit)\u001b[0m\n\u001b[1;32m   1281\u001b[0m path \u001b[38;5;241m=\u001b[39m Path(tmpdir, \u001b[38;5;124m\"\u001b[39m\u001b[38;5;124mtemp.m4v\u001b[39m\u001b[38;5;124m\"\u001b[39m)\n\u001b[1;32m   1282\u001b[0m \u001b[38;5;66;03m# We create a writer manually so that we can get the\u001b[39;00m\n\u001b[1;32m   1283\u001b[0m \u001b[38;5;66;03m# appropriate size for the tag\u001b[39;00m\n\u001b[0;32m-> 1284\u001b[0m Writer \u001b[38;5;241m=\u001b[39m \u001b[43mwriters\u001b[49m\u001b[43m[\u001b[49m\u001b[43mmpl\u001b[49m\u001b[38;5;241;43m.\u001b[39;49m\u001b[43mrcParams\u001b[49m\u001b[43m[\u001b[49m\u001b[38;5;124;43m'\u001b[39;49m\u001b[38;5;124;43manimation.writer\u001b[39;49m\u001b[38;5;124;43m'\u001b[39;49m\u001b[43m]\u001b[49m\u001b[43m]\u001b[49m\n\u001b[1;32m   1285\u001b[0m writer \u001b[38;5;241m=\u001b[39m Writer(codec\u001b[38;5;241m=\u001b[39m\u001b[38;5;124m'\u001b[39m\u001b[38;5;124mh264\u001b[39m\u001b[38;5;124m'\u001b[39m,\n\u001b[1;32m   1286\u001b[0m                 bitrate\u001b[38;5;241m=\u001b[39mmpl\u001b[38;5;241m.\u001b[39mrcParams[\u001b[38;5;124m'\u001b[39m\u001b[38;5;124manimation.bitrate\u001b[39m\u001b[38;5;124m'\u001b[39m],\n\u001b[1;32m   1287\u001b[0m                 fps\u001b[38;5;241m=\u001b[39m\u001b[38;5;241m1000.\u001b[39m \u001b[38;5;241m/\u001b[39m \u001b[38;5;28mself\u001b[39m\u001b[38;5;241m.\u001b[39m_interval)\n\u001b[1;32m   1288\u001b[0m \u001b[38;5;28mself\u001b[39m\u001b[38;5;241m.\u001b[39msave(\u001b[38;5;28mstr\u001b[39m(path), writer\u001b[38;5;241m=\u001b[39mwriter)\n",
      "File \u001b[0;32m~/mambaforge/envs/miniai/lib/python3.11/site-packages/matplotlib/animation.py:148\u001b[0m, in \u001b[0;36mMovieWriterRegistry.__getitem__\u001b[0;34m(self, name)\u001b[0m\n\u001b[1;32m    146\u001b[0m \u001b[38;5;28;01mif\u001b[39;00m \u001b[38;5;28mself\u001b[39m\u001b[38;5;241m.\u001b[39mis_available(name):\n\u001b[1;32m    147\u001b[0m     \u001b[38;5;28;01mreturn\u001b[39;00m \u001b[38;5;28mself\u001b[39m\u001b[38;5;241m.\u001b[39m_registered[name]\n\u001b[0;32m--> 148\u001b[0m \u001b[38;5;28;01mraise\u001b[39;00m \u001b[38;5;167;01mRuntimeError\u001b[39;00m(\u001b[38;5;124mf\u001b[39m\u001b[38;5;124m\"\u001b[39m\u001b[38;5;124mRequested MovieWriter (\u001b[39m\u001b[38;5;132;01m{\u001b[39;00mname\u001b[38;5;132;01m}\u001b[39;00m\u001b[38;5;124m) not available\u001b[39m\u001b[38;5;124m\"\u001b[39m)\n",
      "\u001b[0;31mRuntimeError\u001b[0m: Requested MovieWriter (ffmpeg) not available"
     ]
    }
   ],
   "source": [
    "%matplotlib auto\n",
    "import matplotlib.animation as animation\n",
    "from IPython.display import display, HTML\n",
    "\n",
    "fig,ax = plt.subplots(figsize=(3,3))\n",
    "def _show_i(i): return show_image(-samples[i][9], ax=ax, animated=True).get_images()\n",
    "r = L.range(800,990, 5)+L.range(990,1000)+[999]*10\n",
    "ims = r.map(_show_i)\n",
    "\n",
    "animate = animation.ArtistAnimation(fig, ims, interval=50, blit=True, repeat_delay=3000)\n",
    "display(HTML(animate.to_html5_video()))"
   ]
  },
  {
   "cell_type": "code",
   "execution_count": null,
   "id": "d0852c71-921e-4026-bd0a-99b4906a6b95",
   "metadata": {},
   "outputs": [],
   "source": []
  }
 ],
 "metadata": {
  "kernelspec": {
   "display_name": "miniai",
   "language": "python",
   "name": "miniai"
  },
  "language_info": {
   "codemirror_mode": {
    "name": "ipython",
    "version": 3
   },
   "file_extension": ".py",
   "mimetype": "text/x-python",
   "name": "python",
   "nbconvert_exporter": "python",
   "pygments_lexer": "ipython3",
   "version": "3.11.3"
  }
 },
 "nbformat": 4,
 "nbformat_minor": 5
}
